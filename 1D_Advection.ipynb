{
 "cells": [
  {
   "cell_type": "markdown",
   "id": "dedicated-formation",
   "metadata": {},
   "source": [
    "In this notebook, we perform 1D advection on a tracer, $\\phi$. Advection is the transport of a substance or quantity by bulk motion of a fluid. For the end points, we use periodic boundary conditions. These boundary conditions are often used to approximate a very large system by considering a small region, called a unit cell, which can be replicated over the entire system, hence the term periodic. \n",
    "\n",
    "Firstly, we describe the equation we would like to solve:\n",
    "\n",
    "$$ \\frac{\\partial \\phi}{\\partial t} + a \\frac{\\partial \\phi}{\\partial x} = 0. $$\n",
    "\n",
    "This equation qualitatively means that the tracer $\\phi$ moves or advects with a speed $a$ in the fluid.\n",
    "\n",
    "Mathematically, periodic boundary conditions imply that the solution should be periodic in this large system, i.e., if we take a domain and apply periodic boundary conditions, this domain will be one of the many copies, stacked one after the other. When we deal with the central difference scheme, we end with two unknowns, at each of the extremes. If our unit cell comprises of N grid points, labelled as $x_1,x_2,x_3...,x_N$, then the 0th grid point should actually be equal to the Nth grid point, and the (N+1)th grid point should be equal to the 1st grid point. For an arbitrary function $f(x)$, this can be stated as:\n",
    "\n",
    "$$ f(x = x_1) = f(x = x_N+1), $$\n",
    "\n",
    "$$ f(x = x_N) = f(x = 0).$$"
   ]
  },
  {
   "cell_type": "markdown",
   "id": "motivated-fitness",
   "metadata": {},
   "source": [
    "The general form of analytical solution for this equation is:\n",
    "\n",
    "$$ \\phi(x,t) = A sin(k(x - at)) + B. $$\n",
    "\n",
    "We consider a __full__ sine wave (so that we can apply periodic boundary conditions), and we check a specific solution:\n",
    "\n",
    "$$ \\phi(x,t) = sin \\Big(\\frac{2 \\pi x}{L_x} \\Big), $$\n",
    "where $L_x$ is the wavelength of the wave, and has unit amplitude.\n",
    "\n",
    "We implement the 1D advection equation for both positive and negative advection speeds, along with 1st order forward and backward difference, and summarise our results."
   ]
  },
  {
   "cell_type": "code",
   "execution_count": 1,
   "id": "comprehensive-sitting",
   "metadata": {},
   "outputs": [],
   "source": [
    "import numpy as np\n",
    "import matplotlib.pyplot as plt\n",
    "import sys"
   ]
  },
  {
   "cell_type": "code",
   "execution_count": 2,
   "id": "legendary-interval",
   "metadata": {},
   "outputs": [],
   "source": [
    "import Euler.Periodic_1D as elr"
   ]
  },
  {
   "cell_type": "markdown",
   "id": "corresponding-flour",
   "metadata": {},
   "source": [
    "# Test 1: 1D Advection with positive advection speed"
   ]
  },
  {
   "cell_type": "markdown",
   "id": "cutting-morocco",
   "metadata": {},
   "source": [
    "### Test 1.1: Forward difference"
   ]
  },
  {
   "cell_type": "code",
   "execution_count": 3,
   "id": "necessary-racing",
   "metadata": {},
   "outputs": [],
   "source": [
    "#Length of domain\n",
    "Lx = 100\n",
    "\n",
    "# Number of points\n",
    "nx = 40\n",
    "\n",
    "#Width of each cell\n",
    "dx = Lx/nx\n",
    "\n",
    "\n",
    "g = 9.81\n",
    "rho0 = 1025\n",
    "\n",
    "# An array for storing each point of domain\n",
    "x = np.linspace(0,Lx,nx+1,dtype = float)\n",
    "\n",
    "#Dropping the last point (needed to implement periodic BC)\n",
    "x = x[0:-1]"
   ]
  },
  {
   "cell_type": "code",
   "execution_count": 4,
   "id": "bottom-segment",
   "metadata": {},
   "outputs": [],
   "source": [
    "def partial_x_bd(f, dx):\n",
    "    \n",
    "    \"\"\"This function computes the backward derivative of x\n",
    "    \n",
    "    -------------------------------------------------------------------------------------\n",
    "    Arguments:\n",
    "    f: Function which needs to be differentiated\n",
    "    dx: Width of each cell\n",
    "    -------------------------------------------------------------------------------------\n",
    "    Returns:\n",
    "    dfdx: Partial derivative of f\n",
    "    \"\"\"\n",
    "    \n",
    "    dfdx = np.zeros_like(f)\n",
    "    for j in range(f.size):\n",
    "        dfdx[j] = 1/(dx) * (f[j]-f[j-1])\n",
    "\n",
    "    return dfdx\n",
    "\n",
    "def partial_x_fd(f, dx):\n",
    "    \n",
    "    \"\"\"This function computes the forward derivative of x\n",
    "    \n",
    "    -------------------------------------------------------------------------------------\n",
    "    Arguments:\n",
    "    f: Function which needs to be differentiated\n",
    "    dx: Width of each cell\n",
    "    -------------------------------------------------------------------------------------\n",
    "    Returns:\n",
    "    dfdx: Partial derivative of f\n",
    "    \"\"\"\n",
    "    \n",
    "    dfdx = np.zeros_like(f)\n",
    "    for j in range(f.size - 1):\n",
    "        dfdx[j] = 1/(dx) * (f[j+1] - f[j])\n",
    "    dfdx[-1] = 1/(dx) * (f[0] - f[-1])\n",
    "\n",
    "    return dfdx\n",
    "\n",
    "def adv_x_Euler(a,f1,switch_adv_scheme):\n",
    "    \n",
    "    \"\"\"This function performs 1D advection on a tracer/momentum variable with constant speed\n",
    "    \n",
    "    -------------------------------------------------------------------------------------\n",
    "    Arguments:\n",
    "    a: Advection speed\n",
    "    f1: Variable which needs to be advected\n",
    "    switch_adv_scheme: Forward(> 0), backward (< 0) or always stable (= 0) scheme\n",
    "    \n",
    "    -------------------------------------------------------------------------------------\n",
    "    Returns:\n",
    "    f3: Array with advected variable\n",
    "    \"\"\"\n",
    "    if(switch_adv_scheme < 0):\n",
    "        f3 = -a*partial_x_bd(f1, dx)\n",
    "        return f3\n",
    "    elif(switch_adv_scheme > 0):\n",
    "        f3 = -a*partial_x_fd(f1, dx)\n",
    "        return f3\n",
    "    elif(switch_adv_scheme == 0):\n",
    "        f3 = -(a + abs(a))*0.5*partial_x_bd(f1, dx) - (a - abs(a))*0.5*partial_x_fd(f1, dx)\n",
    "        return f3"
   ]
  },
  {
   "cell_type": "code",
   "execution_count": 5,
   "id": "understood-august",
   "metadata": {},
   "outputs": [],
   "source": [
    "#Initialising variables\n",
    "\n",
    "phi_old = np.sin(2*np.pi*x/(Lx))\n",
    "phi_old_t0 = np.sin(2*np.pi*x/(Lx))\n",
    "phi_new = np.zeros(nx)\n",
    "\n",
    "a = 1 #Speed of advection\n",
    "\n",
    "#Time variables\n",
    "t = 0\n",
    "t_start = 0\n",
    "t_end = 80\n",
    "dt = 1\n",
    "\n",
    "#True solution\n",
    "phi_true = np.sin(2*np.pi*x/(Lx))\n",
    "\n",
    "# Needed to create animations\n",
    "phi_data = np.zeros((nx,int(t_end/dt) + 1))\n",
    "phi_true_data = np.zeros((nx,int(t_end/dt) + 1))\n",
    "\n",
    "# Choosing the correct advection scheme\n",
    "# switch_adv_scheme > 0 implies forward difference, < 0 implies backward difference\n",
    "# and = 0 implies a mixture of the two (explained in detail in Test 1.3).\n",
    "switch_adv_scheme = 1\n",
    "\n",
    "#Advecting the variable for fixed number of time steps\n",
    "for t in np.arange(t_start,t_end,dt):\n",
    "    phi_new = phi_old + dt*adv_x_Euler(a,phi_old,switch_adv_scheme)\n",
    "    phi_true = np.sin(2*np.pi*(x - a*t)/Lx)\n",
    "    \n",
    "    phi_data[:,int(t/dt)] = phi_old\n",
    "    phi_true_data[:,int(t/dt)] = phi_true\n",
    "    \n",
    "    phi_old = phi_new"
   ]
  },
  {
   "cell_type": "code",
   "execution_count": 6,
   "id": "meaning-grace",
   "metadata": {},
   "outputs": [],
   "source": [
    "from matplotlib import animation\n",
    "\n",
    "fig,ax = plt.subplots(figsize = (13,5))\n",
    "#plt.legend()\n",
    "\n",
    "def update_fig(i):\n",
    "    \n",
    "    plt.clf()\n",
    "    plt.title('Time = ' + str(dt*i))\n",
    "    p1 = plt.plot(x, phi_true_data[:,i], label = 'True solution at time ' + str(t) + ' s(Theoretical)')\n",
    "    p1 = plt.plot(x, phi_data[:,i], label = 'Advected solution at time ' + str(t) + ' s(Theoretical)')\n",
    "    plt.legend()\n",
    "    return p1\n",
    "\n",
    "num_frames = 80\n",
    "anim = animation.FuncAnimation(fig, update_fig, frames = num_frames, blit = True)\n",
    "anim.save('1D_FD_Advection.mp4',writer = 'ffmpeg',fps = 8)\n",
    "\n",
    "plt.close(anim._fig)"
   ]
  },
  {
   "cell_type": "code",
   "execution_count": 7,
   "id": "purple-porter",
   "metadata": {},
   "outputs": [
    {
     "data": {
      "text/html": [
       "<video src=\"1D_FD_Advection.mp4\" controls  >\n",
       "      Your browser does not support the <code>video</code> element.\n",
       "    </video>"
      ],
      "text/plain": [
       "<IPython.core.display.Video object>"
      ]
     },
     "execution_count": 7,
     "metadata": {},
     "output_type": "execute_result"
    }
   ],
   "source": [
    "from IPython.display import Video\n",
    "Video(\"1D_FD_Advection.mp4\")"
   ]
  },
  {
   "cell_type": "code",
   "execution_count": 8,
   "id": "accessory-martial",
   "metadata": {},
   "outputs": [
    {
     "data": {
      "text/plain": [
       "Text(0.5, 1.0, '1D advection using forward difference and positive advection velocity')"
      ]
     },
     "execution_count": 8,
     "metadata": {},
     "output_type": "execute_result"
    },
    {
     "data": {
      "image/png": "[encoded data removed]",
      "text/plain": [
       "<Figure size 936x360 with 1 Axes>"
      ]
     },
     "metadata": {
      "needs_background": "light"
     },
     "output_type": "display_data"
    }
   ],
   "source": [
    "plt.figure(figsize = (13,5))\n",
    "plt.plot(x, phi_true, label = 'True solution at time ' + str(t) + ' s(Theoretical)')\n",
    "plt.plot(x, phi_old, label = 'Adveced solution at time ' + str(t) + ' s(Theoretical)')\n",
    "plt.legend()\n",
    "plt.title('1D advection using forward difference and positive advection velocity')"
   ]
  },
  {
   "cell_type": "markdown",
   "id": "hydraulic-tuesday",
   "metadata": {},
   "source": [
    "The animation above shows that close to $t = 60$ seconds, the simulation breaks. This happens because the Von-Neumann stability analysis shows that for positive advection speeds, forward differencing is unstable, and vice-versa. So, for positive advection velocity, we must use backward differencing to advect the tracer without the simulation blowing up. This is shown in the next sub-test."
   ]
  },
  {
   "cell_type": "markdown",
   "id": "cross-corrections",
   "metadata": {},
   "source": [
    "### Test 1.2 : Backward difference"
   ]
  },
  {
   "cell_type": "code",
   "execution_count": 9,
   "id": "incoming-wilderness",
   "metadata": {},
   "outputs": [],
   "source": [
    "#Initialising variables\n",
    "\n",
    "phi_old = np.sin(2*np.pi*x/(Lx))\n",
    "phi_old_t0 = np.sin(2*np.pi*x/(Lx))\n",
    "phi_new = np.zeros(nx)\n",
    "\n",
    "a = 1 #Speed of advection\n",
    "\n",
    "#Time variables\n",
    "t = 0\n",
    "t_start = 0\n",
    "t_end = 80.01\n",
    "dt = 1\n",
    "\n",
    "#True solution\n",
    "phi_true = np.sin(2*np.pi*x/(Lx))\n",
    "\n",
    "# Needed to create animations\n",
    "phi_data = np.zeros((nx,int(t_end/dt) + 1))\n",
    "phi_true_data = np.zeros((nx,int(t_end/dt) + 1))\n",
    "\n",
    "# Choosing the correct advection scheme\n",
    "# switch_adv_scheme > 0 implies forward difference, < 0 implies backward difference\n",
    "# and = 0 implies a mixture of the two (explained in detail in Test 1.3).\n",
    "switch_adv_scheme = -1\n",
    "\n",
    "\n",
    "#Advecting the variable for fixed number of time steps\n",
    "for t in np.arange(t_start,t_end,dt):\n",
    "    phi_new = phi_old + dt*adv_x_Euler(a,phi_old,switch_adv_scheme)\n",
    "    phi_true = np.sin(2*np.pi*(x - a*t)/Lx)\n",
    "    \n",
    "    phi_data[:,int(t/dt)] = phi_old\n",
    "    phi_true_data[:,int(t/dt)] = phi_true\n",
    "    \n",
    "    phi_old = phi_new"
   ]
  },
  {
   "cell_type": "code",
   "execution_count": 10,
   "id": "difficult-television",
   "metadata": {},
   "outputs": [],
   "source": [
    "from matplotlib import animation\n",
    "\n",
    "fig,ax = plt.subplots(figsize = (13,5))\n",
    "\n",
    "def update_fig(i):\n",
    "    \n",
    "    plt.clf()\n",
    "    plt.title('Time = ' + str(dt*i))\n",
    "    p1 = plt.plot(x, phi_true_data[:,i], label = 'True solution at time ' + str(t) + ' s(Theoretical)')\n",
    "    p1 = plt.plot(x, phi_data[:,i], label = 'Advected solution at time ' + str(t) + ' s(Theoretical)')\n",
    "    plt.legend()\n",
    "    return p1\n",
    "\n",
    "num_frames = 80\n",
    "anim = animation.FuncAnimation(fig, update_fig, frames = num_frames, blit = True)\n",
    "anim.save('1D_BD_Advection.mp4',writer = 'ffmpeg',fps = 8)\n",
    "\n",
    "plt.close(anim._fig)"
   ]
  },
  {
   "cell_type": "code",
   "execution_count": 11,
   "id": "miniature-regulation",
   "metadata": {},
   "outputs": [
    {
     "data": {
      "text/html": [
       "<video src=\"1D_BD_Advection.mp4\" controls  >\n",
       "      Your browser does not support the <code>video</code> element.\n",
       "    </video>"
      ],
      "text/plain": [
       "<IPython.core.display.Video object>"
      ]
     },
     "execution_count": 11,
     "metadata": {},
     "output_type": "execute_result"
    }
   ],
   "source": [
    "from IPython.display import Video\n",
    "Video(\"1D_BD_Advection.mp4\")"
   ]
  },
  {
   "cell_type": "markdown",
   "id": "defensive-donna",
   "metadata": {},
   "source": [
    "Unsurprisingly, as the Von-Neumann anaylsys states, the forward differencing scheme is unstable for positive advectin speeds. However, one thing to note in the second case (backward difference + positive advection velocity) is that there is artifical dissipation. This is a common issue with the 1st order accurate differencing schemes. We can reduce it by having the Courant number as close to 1 as possible. For the above case, it is $a \\frac{\\Delta t}{\\Delta x}$, and substituting for each variable, we get:\n",
    "\n",
    "$$ a \\frac{\\Delta t}{\\Delta x} = 1 \\frac{2}{2.5} = 0.8 $$.\n",
    "\n",
    "Let us take a scenario where the Courant number is 1, so for that, $\\Delta t = 2.5$ seconds.  "
   ]
  },
  {
   "cell_type": "code",
   "execution_count": 12,
   "id": "round-accordance",
   "metadata": {},
   "outputs": [],
   "source": [
    "#Initialising variables\n",
    "\n",
    "phi_old = np.sin(2*np.pi*x/(Lx))\n",
    "phi_old_t0 = np.sin(2*np.pi*x/(Lx))\n",
    "phi_new = np.zeros(nx)\n",
    "\n",
    "a = 1 #Speed of advection\n",
    "\n",
    "#Time variables\n",
    "t = 0\n",
    "t_start = 0\n",
    "t_end = 80.01\n",
    "dt = 2.5\n",
    "\n",
    "#True solution\n",
    "phi_true = np.sin(2*np.pi*x/(Lx))\n",
    "\n",
    "# Needed to create animations\n",
    "phi_data = np.zeros((nx,int(t_end/dt) + 1))\n",
    "phi_true_data = np.zeros((nx,int(t_end/dt) + 1))\n",
    "\n",
    "# Choosing the correct advection scheme\n",
    "# switch_adv_scheme > 0 implies forward difference, < 0 implies backward difference\n",
    "# and = 0 implies a mixture of the two (explained in detail in Test 1.3).\n",
    "switch_adv_scheme = -1\n",
    "\n",
    "\n",
    "#Advecting the variable for fixed number of time steps\n",
    "for t in np.arange(t_start,t_end,dt):\n",
    "    phi_new = phi_old + dt*adv_x_Euler(a,phi_old,switch_adv_scheme)\n",
    "    phi_true = np.sin(2*np.pi*(x - a*t)/Lx)\n",
    "    \n",
    "    phi_data[:,int(t/dt)] = phi_old\n",
    "    phi_true_data[:,int(t/dt)] = phi_true\n",
    "    \n",
    "    phi_old = phi_new"
   ]
  },
  {
   "cell_type": "code",
   "execution_count": 13,
   "id": "directed-swaziland",
   "metadata": {},
   "outputs": [],
   "source": [
    "from matplotlib import animation\n",
    "\n",
    "fig,ax = plt.subplots(figsize = (13,5))\n",
    "\n",
    "def update_fig(i):\n",
    "    \n",
    "    plt.clf()\n",
    "    plt.title('Time = ' + str(dt*i))\n",
    "    p1 = plt.plot(x, phi_true_data[:,i], label = 'True solution at time ' + str(t) + ' s(Theoretical)')\n",
    "    p1 = plt.plot(x, phi_data[:,i], label = 'Advected solution at time ' + str(t) + ' s(Theoretical)')\n",
    "    plt.legend()\n",
    "    return p1\n",
    "\n",
    "num_frames = 32\n",
    "anim = animation.FuncAnimation(fig, update_fig, frames = num_frames, blit = True)\n",
    "anim.save('1D_BD_Advection_2.mp4',writer = 'ffmpeg',fps = 8)\n",
    "\n",
    "plt.close(anim._fig)"
   ]
  },
  {
   "cell_type": "code",
   "execution_count": 14,
   "id": "advance-theta",
   "metadata": {},
   "outputs": [
    {
     "data": {
      "text/html": [
       "<video src=\"1D_BD_Advection_2.mp4\" controls  >\n",
       "      Your browser does not support the <code>video</code> element.\n",
       "    </video>"
      ],
      "text/plain": [
       "<IPython.core.display.Video object>"
      ]
     },
     "execution_count": 14,
     "metadata": {},
     "output_type": "execute_result"
    }
   ],
   "source": [
    "Video(\"1D_BD_Advection_2.mp4\")"
   ]
  },
  {
   "cell_type": "markdown",
   "id": "sporting-output",
   "metadata": {},
   "source": [
    "We see that the largest error in the present case is smaller ($\\approx 0.15$) as compared to the previous case, where $a = 1$ (error $= 0.22$)."
   ]
  },
  {
   "cell_type": "markdown",
   "id": "satisfactory-tokyo",
   "metadata": {},
   "source": [
    "Not shown here are two other tests, where the advection speed is negative, and the forward differencing scheme is stable, and the backward differencing scheme is unstable. However, there are several issues here:\n",
    "\n",
    "1. It is very impractical to explicitly choose a stable finite differencing scheme on the basis of the sign of advection velocity. \n",
    "2. As soon as we move out of this highly idealised world into something even a bit more complicated, like the 1D shallow water equations, we will observe that there will be some locations where the velocity will be negative, and others where it will be positive. Therefore, instead of hard-coding, it'll be better if the code itself checks for it. There are two ways of achieving this:\n",
    "    \n",
    "    (i) Using an if-else loop. This is a naive way of addressing this issue. No doubt, this will work, but we can get rid of the i-else loop using the idea presented in (ii).\n",
    "    \n",
    "    (ii) Using a methodology like:\n",
    "    (a + |a|) $\\times$ 0.5 $\\times$ Backward difference + (a - |a|) $\\times$ 0.5 $\\times$ Forward difference. Suppose a is negative, then $(a + |a|) = 0$, and $(a + |a|) = a$. So, there will be no conribution from the backward differcing scheme, and vice-versa.\n",
    "    \n",
    "Both (i) and (ii) will be stable for all advection velocities. Below, we code for (ii)."
   ]
  },
  {
   "cell_type": "markdown",
   "id": "adult-excerpt",
   "metadata": {},
   "source": [
    "### Test 1.3: The code chooses which advection scheme to perform"
   ]
  },
  {
   "cell_type": "code",
   "execution_count": 15,
   "id": "fifteen-channel",
   "metadata": {},
   "outputs": [],
   "source": [
    "#Initialising variables\n",
    "\n",
    "phi_old = np.sin(2*np.pi*x/(Lx))\n",
    "phi_old_t0 = np.sin(2*np.pi*x/(Lx))\n",
    "phi_new = np.zeros(nx)\n",
    "\n",
    "a = 1 #Speed of advection\n",
    "\n",
    "#Time variables\n",
    "t = 0\n",
    "t_start = 0\n",
    "t_end = 80.01\n",
    "dt = 2\n",
    "\n",
    "#True solution\n",
    "phi_true = np.sin(2*np.pi*x/(Lx))\n",
    "\n",
    "# Needed to create animations\n",
    "phi_data = np.zeros((nx,int(t_end/dt) + 1))\n",
    "phi_true_data = np.zeros((nx,int(t_end/dt) + 1))\n",
    "\n",
    "# Choosing the correct advection scheme\n",
    "# switch_adv_scheme > 0 implies forward difference, < 0 implies backward difference\n",
    "# and = 0 implies a mixture of the two (explained in detail in Test 1.3).\n",
    "switch_adv_scheme = 0\n",
    "\n",
    "\n",
    "#Advecting the variable for fixed number of time steps\n",
    "for t in np.arange(t_start,t_end,dt):\n",
    "    phi_new = phi_old + dt*adv_x_Euler(a,phi_old,switch_adv_scheme)\n",
    "    phi_true = np.sin(2*np.pi*(x - a*t)/Lx)\n",
    "    \n",
    "    phi_data[:,int(t/dt)] = phi_old\n",
    "    phi_true_data[:,int(t/dt)] = phi_true\n",
    "    \n",
    "    phi_old = phi_new"
   ]
  },
  {
   "cell_type": "code",
   "execution_count": 16,
   "id": "happy-watson",
   "metadata": {},
   "outputs": [],
   "source": [
    "from matplotlib import animation\n",
    "\n",
    "fig,ax = plt.subplots(figsize = (13,5))\n",
    "\n",
    "def update_fig(i):\n",
    "    \n",
    "    plt.clf()\n",
    "    plt.title('Time = ' + str(dt*i))\n",
    "    p1 = plt.plot(x, phi_true_data[:,i], label = 'True solution at time ' + str(t) + ' s(Theoretical)')\n",
    "    p1 = plt.plot(x, phi_data[:,i], label = 'Advected solution at time ' + str(t) + ' s(Theoretical)')\n",
    "    plt.legend()\n",
    "    return p1\n",
    "\n",
    "num_frames = 41\n",
    "anim = animation.FuncAnimation(fig, update_fig, frames = num_frames, blit = True)\n",
    "anim.save('1D_stable_Advection.mp4',writer = 'ffmpeg',fps = 8)\n",
    "\n",
    "plt.close(anim._fig)"
   ]
  },
  {
   "cell_type": "code",
   "execution_count": 17,
   "id": "athletic-football",
   "metadata": {},
   "outputs": [
    {
     "data": {
      "text/html": [
       "<video src=\"1D_stable_Advection.mp4\" controls  >\n",
       "      Your browser does not support the <code>video</code> element.\n",
       "    </video>"
      ],
      "text/plain": [
       "<IPython.core.display.Video object>"
      ]
     },
     "execution_count": 17,
     "metadata": {},
     "output_type": "execute_result"
    }
   ],
   "source": [
    "Video(\"1D_stable_Advection.mp4\")"
   ]
  },
  {
   "cell_type": "markdown",
   "id": "hybrid-property",
   "metadata": {},
   "source": [
    "# Test 2: Error analysis"
   ]
  },
  {
   "cell_type": "markdown",
   "id": "unlimited-cooperative",
   "metadata": {},
   "source": [
    "We move on to the next step - error analysis. A good way to check whether our code is computing the correct data is  to change the number of points in the domain, and comparing the error with the original case. We have applied a first order differencing scheme, so we should expect our errors to drop down as $dx (= \\frac{1}{nx})$, where $nx$ is the number of points in the domain, and $dx$ is the spacing between two points. "
   ]
  },
  {
   "cell_type": "code",
   "execution_count": 18,
   "id": "fuzzy-gnome",
   "metadata": {},
   "outputs": [],
   "source": [
    "Lx = 100\n",
    "g = 9.81\n",
    "rho0 = 1025\n",
    "\n",
    "a = 1\n",
    "nx = [8,32,64,128,256,512,1024,2048,4096]\n",
    "error_phi = np.zeros(len(nx))\n",
    "\n",
    "switch_adv_scheme = 0\n",
    "for i,nxi in enumerate(nx):\n",
    "    dx = Lx/nxi\n",
    "    \n",
    "    x = np.linspace(0,Lx,nxi+1,dtype = float)\n",
    "    x = x[0:-1]\n",
    "\n",
    "    phi_old = np.sin(2*np.pi*x/(Lx))\n",
    "    phi_new = np.zeros(nxi)\n",
    "\n",
    "    a = -0.5 #Speed of advection\n",
    "\n",
    "    t_start = 0\n",
    "    t_end = 20\n",
    "    dt = 0.01\n",
    "    for t in np.arange(t_start,t_end,dt):\n",
    "        phi_new = phi_old + dt*adv_x_Euler(a,phi_old,switch_adv_scheme)\n",
    "        phi_old = phi_new\n",
    "        \n",
    "    phi_actual = (np.sin(2*np.pi*(x - a*t)/(Lx)))\n",
    "    error_phi[i] = max(abs(phi_new - phi_actual))"
   ]
  },
  {
   "cell_type": "code",
   "execution_count": 19,
   "id": "capable-kennedy",
   "metadata": {},
   "outputs": [],
   "source": [
    "nx_inv = np.zeros(len(nx))\n",
    "nx2_inv = np.zeros(len(nx))\n",
    "for i,nxi in enumerate(nx):\n",
    "    nx_inv[i] = 1/nxi\n",
    "    nx2_inv[i] = 1/nxi**2"
   ]
  },
  {
   "cell_type": "code",
   "execution_count": 20,
   "id": "unlikely-leonard",
   "metadata": {},
   "outputs": [
    {
     "data": {
      "image/png": "[encoded data removed]",
      "text/plain": [
       "<Figure size 720x432 with 1 Axes>"
      ]
     },
     "metadata": {
      "needs_background": "light"
     },
     "output_type": "display_data"
    }
   ],
   "source": [
    "plt.figure(figsize = (10,6))\n",
    "plt.yscale(\"log\")\n",
    "plt.xscale(\"log\")\n",
    "plt.xlabel(\"Number of points\")\n",
    "plt.ylabel(\"Maximum error\")\n",
    "plt.plot(nx,error_phi,marker='o',linestyle = '--',label = 'Discretisation error')\n",
    "plt.plot(nx,nx_inv,marker = 'D',linestyle = '--', label = '1/nx')\n",
    "plt.title(\"Error plot for numerical solution(log-log)\")\n",
    "plt.legend()\n",
    "plt.show()"
   ]
  },
  {
   "cell_type": "markdown",
   "id": "choice-corporation",
   "metadata": {},
   "source": [
    "This error plot shows something we expected - the error indeed drops down as we increase the number of points in the domain. This ends our analysis of the 1D advection of a tracer. However, this code is generalised, and is valid for a different curve (other than the sine curve) as well, provided that the curve satisfies the criteria for applying periodic boundary conditions."
   ]
  }
 ],
 "metadata": {
  "kernelspec": {
   "display_name": "Python 3",
   "language": "python",
   "name": "python3"
  },
  "language_info": {
   "codemirror_mode": {
    "name": "ipython",
    "version": 3
   },
   "file_extension": ".py",
   "mimetype": "text/x-python",
   "name": "python",
   "nbconvert_exporter": "python",
   "pygments_lexer": "ipython3",
   "version": "3.8.5"
  }
 },
 "nbformat": 4,
 "nbformat_minor": 5
}
