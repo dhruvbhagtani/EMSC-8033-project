{
 "cells": [
  {
   "cell_type": "markdown",
   "id": "continuing-least",
   "metadata": {},
   "source": [
    "Diffusion is a process where a substance moves from a region of higher concentration to a region of lower concentration. We consider a tracer, $\\phi$, and solve the equation:\n",
    "$$ \\frac{\\partial \\phi}{\\partial t} = \\kappa \\frac{\\partial^2 \\phi}{\\partial x^2}, $$\n",
    "where $\\kappa > 0$ and $\\phi(x,t)$ is the tracer concentration.\n",
    "\n",
    "For this equation, the analytical solution is given by:\n",
    "$$ \\phi(x,t) =  e^{-\\lambda^2 \\kappa t} A sin( \\lambda x), $$\n",
    "\n",
    "where $\\lambda = \\frac{2 \\pi n x}{L_x}$ and $A$ is the amplitude of the wave.\n",
    "\n",
    "Since we have to impose periodic boundary conditions, we take the full sine curve, and assume $A = 1$, and $n = 1$. \n",
    "\n",
    "We have a module named Euler, which contains equations for 1D and 2D advection and diffusion for different types of differencing schemes. Here, we apply the central difference method to the 1D diffusion equation. "
   ]
  },
  {
   "cell_type": "code",
   "execution_count": 1,
   "id": "grave-unemployment",
   "metadata": {},
   "outputs": [],
   "source": [
    "import Euler.Periodic_1D as elr"
   ]
  },
  {
   "cell_type": "code",
   "execution_count": 2,
   "id": "respiratory-sailing",
   "metadata": {},
   "outputs": [],
   "source": [
    "import numpy as np\n",
    "import matplotlib.pyplot as plt\n",
    "import sys\n",
    "from IPython.display import Video"
   ]
  },
  {
   "cell_type": "code",
   "execution_count": 3,
   "id": "portuguese-egyptian",
   "metadata": {},
   "outputs": [
    {
     "data": {
      "application/javascript": [
       "MathJax.Hub.Config({\n",
       "    TeX: { equationNumbers: { autoNumber: \"AMS\" } }\n",
       "});\n"
      ],
      "text/plain": [
       "<IPython.core.display.Javascript object>"
      ]
     },
     "metadata": {},
     "output_type": "display_data"
    }
   ],
   "source": [
    "%%javascript\n",
    "MathJax.Hub.Config({\n",
    "    TeX: { equationNumbers: { autoNumber: \"AMS\" } }\n",
    "});"
   ]
  },
  {
   "cell_type": "markdown",
   "id": "loose-wisdom",
   "metadata": {},
   "source": [
    "# Test 1: Solving 1D diffusion"
   ]
  },
  {
   "cell_type": "code",
   "execution_count": 4,
   "id": "unsigned-humidity",
   "metadata": {},
   "outputs": [],
   "source": [
    "#Length of domain\n",
    "Lx = 100\n",
    "\n",
    "#Number of points in the domain\n",
    "nx = 40\n",
    "\n",
    "#Width of each cell\n",
    "dx = Lx/nx\n",
    "\n",
    "g = 9.81\n",
    "rho0 = 1025\n",
    "\n",
    "#An array of all points\n",
    "x = np.linspace(0,Lx,nx+1,dtype = float)\n",
    "x = x[0:-1]"
   ]
  },
  {
   "cell_type": "code",
   "execution_count": 5,
   "id": "equal-alcohol",
   "metadata": {},
   "outputs": [],
   "source": [
    "lmda = (2*np.pi)/Lx\n",
    "phi_old = (np.sin(lmda*x))\n",
    "phi_old_t0 = (np.sin(lmda*x))\n",
    "\n",
    "phi_new = np.zeros(nx)\n",
    "\n",
    "t_start = 0\n",
    "t_end = 80\n",
    "dt = 1\n",
    "\n",
    "#Set switch - (i) FD = 1, (ii) BD = -1, (iii) CD = 0\n",
    "#By default, switch is set to 0.\n",
    "switch_diff_scheme = 0\n",
    "\n",
    "#actual_sol = 2*(np.sin(2*np.pi*xu_ocean/(Lx)))\n",
    "kappa = 2.0\n",
    "\n",
    "# Needed to create animations\n",
    "phi_data = np.zeros((nx,int(t_end/dt) + 1))\n",
    "phi_true_data = np.zeros((nx,int(t_end/dt) + 1))\n",
    "\n",
    "for t in np.arange(t_start,t_end,dt):\n",
    "    phi_new = phi_old + dt*elr.diff_x(kappa,phi_old,dx,nx)\n",
    "    phi_actual = np.exp(-lmda**2 * t * kappa) * np.sin(lmda*x)\n",
    "    phi_old = phi_new\n",
    "    \n",
    "    phi_data[:,int(t/dt)] = phi_old\n",
    "    phi_true_data[:,int(t/dt)] = phi_actual"
   ]
  },
  {
   "cell_type": "code",
   "execution_count": 6,
   "id": "military-metabolism",
   "metadata": {},
   "outputs": [],
   "source": [
    "from matplotlib import animation\n",
    "\n",
    "fig,ax = plt.subplots(figsize = (13,5)) \n",
    "\n",
    "def update_fig(i):\n",
    "    \n",
    "    plt.clf()\n",
    "    plt.title('Time = ' + str(dt*i))\n",
    "    p1 = plt.plot(x, phi_true_data[:,i], label = 'Actual solution at time ' + str(t) + ' s(Theoretical)')\n",
    "    p1 = plt.plot(x, phi_data[:,i], label = 'Diffused solution at time ' + str(t) + ' s(Theoretical)', ls = '-.')\n",
    "    plt.ylim([-1.2, 1.2])\n",
    "    plt.legend()\n",
    "    return p1\n",
    "\n",
    "num_frames = 80\n",
    "anim = animation.FuncAnimation(fig, update_fig, frames = num_frames, blit = True)\n",
    "anim.save('1D_Diffusion.mp4',writer = 'ffmpeg',fps = 8)\n",
    "\n",
    "plt.close(anim._fig)"
   ]
  },
  {
   "cell_type": "code",
   "execution_count": 7,
   "id": "elect-settle",
   "metadata": {},
   "outputs": [
    {
     "data": {
      "text/html": [
       "<video src=\"1D_Diffusion.mp4\" controls  >\n",
       "      Your browser does not support the <code>video</code> element.\n",
       "    </video>"
      ],
      "text/plain": [
       "<IPython.core.display.Video object>"
      ]
     },
     "execution_count": 7,
     "metadata": {},
     "output_type": "execute_result"
    }
   ],
   "source": [
    "Video(\"1D_Diffusion.mp4\")"
   ]
  },
  {
   "cell_type": "code",
   "execution_count": 8,
   "id": "human-scanner",
   "metadata": {},
   "outputs": [
    {
     "data": {
      "text/plain": [
       "Text(0.5, 1.0, '1D diffusion using central difference')"
      ]
     },
     "execution_count": 8,
     "metadata": {},
     "output_type": "execute_result"
    },
    {
     "data": {
      "image/png": "[encoded data removed]",
      "text/plain": [
       "<Figure size 936x360 with 1 Axes>"
      ]
     },
     "metadata": {
      "needs_background": "light"
     },
     "output_type": "display_data"
    }
   ],
   "source": [
    "plt.figure(figsize = (13,5))\n",
    "plt.plot(x, phi_actual, label = 'True solution at time ' + str(t) + ' s(Theoretical)')\n",
    "plt.plot(x, phi_old, label = 'Adveced solution at time ' + str(t) + ' s(Theoretical)', ls = '-.')\n",
    "plt.legend()\n",
    "plt.title('1D diffusion using central difference')"
   ]
  },
  {
   "cell_type": "markdown",
   "id": "academic-palmer",
   "metadata": {},
   "source": [
    "The analytical solution is given by:\n",
    "$$ \\phi(x,t) =  e^{-\\lambda^2 \\kappa t} sin(\\lambda x). $$ \n",
    "Here, $\\lambda = \\frac{2 \\pi x}{L_x} = 0.062, \\kappa = 2$. Since the sine part of the solution doesn't involve time, we just deal with the exponential part, and in this case, diffusion alters the amplitude of this sine curve without affecting its shape. The amplitude at t = 80 seconds is given by:\n",
    "\n",
    "$$ e^{-0.0628^2 \\times 2 \\times 80} = 0.532 $$. \n",
    "\n",
    "So, $0.532$ should be the amplitude of our sine wave. This is what we obtain from our numerical solution too. "
   ]
  },
  {
   "cell_type": "markdown",
   "id": "approximate-baptist",
   "metadata": {},
   "source": [
    "# Test 2: Using ghost points"
   ]
  },
  {
   "cell_type": "markdown",
   "id": "seeing-testimony",
   "metadata": {},
   "source": [
    "This time, instead of periodic boundary conditions, we use ghost points. The equations we have to solve is given by:\n",
    "\n",
    "\\begin{equation}\n",
    "    \\frac{\\partial \\phi}{\\partial t} = \\kappa \\frac{\\partial^2 \\phi}{\\partial t^2}\n",
    "\\end{equation}\n",
    "\n",
    "For the interior points, our solution scheme stays constant. For the boundary points, i.e., for $\\phi(x = 0) = \\phi_0$ and $\\phi(x = x_m) = \\phi_m$, we use ghost points for evaluation. These points do not exist in the physical domain, but we use them to keep the numerical scheme to be of the same order as the interior points. \n",
    "\n",
    "For $\\phi_0$, discretising the governing equation using forward in time central in space scheme, we get:\n",
    "\\begin{equation}\n",
    "    \\frac{\\phi_0^{n+1} - \\phi_0^n}{\\Delta t} = \\kappa \\frac{\\phi_{1}^n - 2\\phi_{0}^n + \\phi_{-1}^n}{\\Delta x^2},\n",
    "\\end{equation}\n",
    "\n",
    "where $\\phi_{-1}$ is the value of the variable at a ghost point to the left of $x_0$. Similarly, for $x = x_m$, upon discretising in the same way, we get:\n",
    "\n",
    "\\begin{equation}\n",
    "    \\frac{\\phi_m^{n+1} - \\phi_m^n}{\\Delta t} = \\kappa \\frac{\\phi_{m+1}^n - 2\\phi_{m}^n + \\phi_{m-1}^n}{\\Delta x^2}, \\end{equation}\n",
    "\n",
    "\n",
    "If we have the Neumann boundary condition as:\n",
    "\n",
    "\\begin{equation}\n",
    "    \\frac{\\partial \\phi}{\\partial t}  = \\Phi_{l} \\text{     for     } x = 0, \n",
    "\\end{equation}\n",
    "\n",
    "\\begin{equation}\n",
    "    \\frac{\\partial \\phi}{\\partial t}  = \\Phi_{r} \\text{     for     } x = x_m.\n",
    "\\end{equation}\n",
    "\n",
    "Discretising the boundary conditions above, we obtain:\n",
    "\n",
    "\\begin{equation}\n",
    "    \\frac{\\phi_1^{n} - \\phi_{-1}^{n}}{2 \\Delta x}  = \\Phi_{l} \\text{     for     } x = 0,\n",
    "\\end{equation}\n",
    "\n",
    "\\begin{equation}\n",
    "    \\frac{\\phi_{m+1}^{n} - \\phi_{m-1}^{n}}{2 \\Delta x}  = \\Phi_{r} \\text{     for     } x = x_m.\n",
    "\\end{equation}\n",
    "\n",
    "Using Eq (6) to obtain $\\phi_{-1}^n$ and substituting in Eq (2), we get an equation for $\\phi_0^{n+1}$:\n",
    "\n",
    "\\begin{equation}\n",
    "    \\phi_0^{n+1} = \\phi_0^n + \\frac{2 \\kappa \\Delta t}{\\Delta x^2} \\Big(\\phi_1^n - \\phi_0^n - \\Phi_l \\Delta x \\Big)\n",
    "\\end{equation}\n",
    "\n",
    "Similarly, using Eq (7) to get $\\phi^n_{m+1}$ and substituting in Eq (3), we get an equation for $\\phi_n^{n+1}$:\n",
    "\n",
    "\\begin{equation}\n",
    "    \\phi_m^{n+1} = \\phi_m^n + \\frac{2 \\kappa \\Delta t}{\\Delta x^2} \\Big(\\phi_{m-1}^n - \\phi_0^n + \\Phi_r \\Delta x \\Big)\n",
    "\\end{equation}"
   ]
  },
  {
   "cell_type": "code",
   "execution_count": 9,
   "id": "horizontal-representative",
   "metadata": {},
   "outputs": [],
   "source": [
    "#Length of domain\n",
    "Lx = 100\n",
    "\n",
    "#Number of points in the domain\n",
    "nx = 40\n",
    "\n",
    "#Width of each cell\n",
    "dx = Lx/nx\n",
    "\n",
    "g = 9.81\n",
    "rho0 = 1025\n",
    "\n",
    "#An array of all points\n",
    "xu_ocean = np.linspace(0,Lx,nx,dtype = float)\n",
    "#xu_ocean = xu_ocean[0:-1]"
   ]
  },
  {
   "cell_type": "code",
   "execution_count": 10,
   "id": "liberal-house",
   "metadata": {},
   "outputs": [],
   "source": [
    "def partial_x2_cd(f,dx,nx):\n",
    "    \n",
    "    \"\"\"This function computes the second order central derivative of x\n",
    "    \n",
    "    -------------------------------------------------------------------------------------\n",
    "    Arguments:\n",
    "    f: Function which needs to be differentiated\n",
    "    dx: Width of each cell\n",
    "    nx: Number of points in the domain\n",
    "    -------------------------------------------------------------------------------------\n",
    "    Returns:\n",
    "    dfdx: Second derivative of f(x)\n",
    "    \"\"\"\n",
    "\n",
    "    dfdx = np.zeros_like(f)\n",
    "    dfdx[1:nx-1] = 1/(dx**2) * (f[2:nx] - 2*f[1:nx-1] + f[0:nx-2])\n",
    "    \n",
    "    return dfdx\n",
    "\n",
    "def diff_x(kappa,tracer,dx,nx,ID_diff_type = 0):\n",
    "    if (ID_diff_type == 0): \n",
    "        f3 = kappa*partial_x2_cd(tracer,dx,nx)\n",
    "        return f3\n",
    "    else:\n",
    "        print('Please provide right value for ID_diff_type')"
   ]
  },
  {
   "cell_type": "code",
   "execution_count": 11,
   "id": "framed-garage",
   "metadata": {},
   "outputs": [],
   "source": [
    "lmda = (2*np.pi)/Lx\n",
    "phi_old = (np.sin(lmda*x - np.pi/2))\n",
    "phi_old_t0 = (np.sin(lmda*x - np.pi/2))\n",
    "\n",
    "phi_new = np.zeros(nx)\n",
    "\n",
    "t_start = 0\n",
    "t_end = 80.01\n",
    "dt = 1\n",
    "\n",
    "#Set switch - (i) FD = 1, (ii) BD = -1, (iii) CD = 0\n",
    "#By default, switch is set to 0.\n",
    "switch_diff_scheme = 0\n",
    "\n",
    "#Boundary condition for phi\n",
    "phi_beg = 0\n",
    "phi_end = 0\n",
    "\n",
    "#actual_sol = 2*(np.sin(2*np.pi*xu_ocean/(Lx)))\n",
    "kappa = 2.0\n",
    "\n",
    "#True solution\n",
    "phi_true = (np.sin(lmda*x - np.pi/2))\n",
    "\n",
    "# Needed to create animations\n",
    "phi_data = np.zeros((nx,int(t_end/dt) + 1))\n",
    "phi_true_data = np.zeros((nx,int(t_end/dt) + 1))\n",
    "\n",
    "for t in np.arange(t_start,t_end,dt):\n",
    "    \n",
    "    #Calculating interior points\n",
    "    phi_new[1:nx-1] = phi_old[1:nx-1] + dt*diff_x(kappa,phi_old,dx,nx)[1:nx-1]\n",
    "    \n",
    "    #Calculating boundary points (Using ghost points)\n",
    "    phi_new[0] = phi_old[0] + ((kappa*dt)/dx**2)*(2*phi_old[1] - 2*phi_old[0] - 2*phi_beg*dx)\n",
    "    phi_new[-1] = phi_old[-1] + ((kappa*dt)/dx**2)*(2*phi_old[-2] - 2*phi_old[-1] + 2*phi_end*dx)\n",
    "\n",
    "    phi_true = np.exp(-lmda**2 * t * kappa) * np.sin(lmda*x - np.pi/2)\n",
    "    phi_data[:,int(t/dt)] = phi_old\n",
    "    phi_true_data[:,int(t/dt)] = phi_true\n",
    "    \n",
    "    phi_old = phi_new"
   ]
  },
  {
   "cell_type": "code",
   "execution_count": 12,
   "id": "deluxe-litigation",
   "metadata": {},
   "outputs": [],
   "source": [
    "from matplotlib import animation\n",
    "\n",
    "fig,ax = plt.subplots(figsize = (13,5)) \n",
    "\n",
    "def update_fig(i):\n",
    "    \n",
    "    plt.clf()\n",
    "    plt.title('Time = ' + str(i))\n",
    "    p1 = plt.plot(x, phi_true_data[:,i], label = 'Actual solution at time ' + str(t) + ' s(Theoretical)')\n",
    "    p1 = plt.plot(x, phi_data[:,i], label = 'Numerical solution at time ' + str(t) + ' s(Theoretical)')\n",
    "    plt.ylim([-1.2, 1.2])\n",
    "    plt.legend()\n",
    "    return p1\n",
    "\n",
    "num_frames = 80\n",
    "anim = animation.FuncAnimation(fig, update_fig, frames = num_frames, blit = True)\n",
    "anim.save('1D_Diffusion_GP.mp4',writer = 'ffmpeg',fps = 8)\n",
    "\n",
    "plt.close(anim._fig)"
   ]
  },
  {
   "cell_type": "code",
   "execution_count": 13,
   "id": "moderate-survival",
   "metadata": {},
   "outputs": [
    {
     "data": {
      "text/html": [
       "<video src=\"1D_Diffusion_GP.mp4\" controls  >\n",
       "      Your browser does not support the <code>video</code> element.\n",
       "    </video>"
      ],
      "text/plain": [
       "<IPython.core.display.Video object>"
      ]
     },
     "execution_count": 13,
     "metadata": {},
     "output_type": "execute_result"
    }
   ],
   "source": [
    "Video(\"1D_Diffusion_GP.mp4\")"
   ]
  },
  {
   "cell_type": "code",
   "execution_count": 14,
   "id": "cheap-journalist",
   "metadata": {},
   "outputs": [
    {
     "data": {
      "text/plain": [
       "Text(0.5, 1.0, '1D advection using forward difference and positive advection velocity')"
      ]
     },
     "execution_count": 14,
     "metadata": {},
     "output_type": "execute_result"
    },
    {
     "data": {
      "image/png": "[encoded data removed]",
      "text/plain": [
       "<Figure size 936x360 with 1 Axes>"
      ]
     },
     "metadata": {
      "needs_background": "light"
     },
     "output_type": "display_data"
    }
   ],
   "source": [
    "plt.figure(figsize = (13,5))\n",
    "plt.plot(x, phi_true, label = 'True solution at time ' + str(t) + ' s(Theoretical)')\n",
    "plt.plot(x, phi_old, label = 'Adveced solution at time ' + str(t) + ' s(Theoretical)', ls = '-.')\n",
    "plt.legend()\n",
    "plt.title('1D advection using forward difference and positive advection velocity')"
   ]
  },
  {
   "cell_type": "markdown",
   "id": "special-trademark",
   "metadata": {},
   "source": [
    "1D diffusion works well with the central difference scheme. The Von-Neumann stability analysis says that as long as the Courant number is less than 1, all schemes are stable for diffusion. We move on to the error analysis to confirm whether the error reduces as we expect it to."
   ]
  },
  {
   "cell_type": "markdown",
   "id": "relative-arlington",
   "metadata": {},
   "source": [
    "# Test 3: Error analysis"
   ]
  },
  {
   "cell_type": "markdown",
   "id": "chief-affect",
   "metadata": {},
   "source": [
    "We have applied the 2nd order central difference scheme, and so, our error must reduce quadratically as dx decreases, if the code is computing the diffusion correctly."
   ]
  },
  {
   "cell_type": "code",
   "execution_count": 15,
   "id": "eleven-discharge",
   "metadata": {},
   "outputs": [],
   "source": [
    "Lx = 1000\n",
    "nx = np.array([8,16,32,64,128,256,512,1024,2048])\n",
    "g = 9.81\n",
    "rho0 = 1025\n",
    "kappa = 0.5\n",
    "error_diff = np.zeros(len(nx))\n",
    "\n",
    "for i,nxi in enumerate(nx):\n",
    "    dx = Lx/nxi\n",
    "    lmda = (2*np.pi)/Lx\n",
    "    x = np.linspace(0,Lx,nxi+1,dtype = float)\n",
    "    x = x[0:-1]\n",
    "    phi_old = (np.sin(lmda*x))\n",
    "    phi_new = np.zeros(nxi)\n",
    "    \n",
    "    t_start = 0\n",
    "    t_end = 40\n",
    "    dt = 0.01\n",
    "    \n",
    "    actual_sol = np.exp(-lmda**2 * t_end * kappa) * np.sin(lmda*x)\n",
    "\n",
    "    for t in np.arange(t_start,t_end,dt):\n",
    "        phi_new = phi_old + dt*elr.diff_x(kappa,phi_old,dx,nxi)\n",
    "\n",
    "        phi_old = phi_new\n",
    "        \n",
    "    error_iter = max(abs(actual_sol - phi_new))\n",
    "    error_diff[i] = error_iter"
   ]
  },
  {
   "cell_type": "code",
   "execution_count": 16,
   "id": "partial-pursuit",
   "metadata": {},
   "outputs": [
    {
     "data": {
      "image/png": "[encoded data removed]",
      "text/plain": [
       "<Figure size 720x432 with 1 Axes>"
      ]
     },
     "metadata": {
      "needs_background": "light"
     },
     "output_type": "display_data"
    }
   ],
   "source": [
    "plt.figure(figsize = (10,6))\n",
    "plt.yscale(\"log\")\n",
    "plt.xscale(\"log\")\n",
    "plt.xlabel(\"Number of points\")\n",
    "plt.ylabel(\"Maximum error\")\n",
    "plt.plot(nx,error_diff,marker='o',linestyle = '--',label = 'Central difference error')\n",
    "plt.plot(nx, 1/nx**2, marker = 'D',linestyle = '--', label = '1/nx^2')\n",
    "plt.title(\"Error plot for central difference(log-log)\")\n",
    "plt.legend()\n",
    "plt.show()"
   ]
  },
  {
   "cell_type": "markdown",
   "id": "missing-bearing",
   "metadata": {},
   "source": [
    "As shown in the error plot above, the error does scale down as $\\frac{1}{nx^2}$, where $nx$ is the number of points in the domain."
   ]
  }
 ],
 "metadata": {
  "kernelspec": {
   "display_name": "Python 3",
   "language": "python",
   "name": "python3"
  },
  "language_info": {
   "codemirror_mode": {
    "name": "ipython",
    "version": 3
   },
   "file_extension": ".py",
   "mimetype": "text/x-python",
   "name": "python",
   "nbconvert_exporter": "python",
   "pygments_lexer": "ipython3",
   "version": "3.8.5"
  }
 },
 "nbformat": 4,
 "nbformat_minor": 5
}
