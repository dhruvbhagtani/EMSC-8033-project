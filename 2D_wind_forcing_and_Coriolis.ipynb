{
 "cells": [
  {
   "cell_type": "code",
   "execution_count": 1,
   "id": "ignored-spirit",
   "metadata": {},
   "outputs": [],
   "source": [
    "import numpy as np\n",
    "import matplotlib.pyplot as plt\n",
    "import sys\n",
    "from IPython.display import Video\n",
    "from matplotlib import animation"
   ]
  },
  {
   "cell_type": "markdown",
   "id": "b9a545f5-b165-4a27-8cd2-658a33128c72",
   "metadata": {},
   "source": [
    "## Test 1: Wind stress forcing"
   ]
  },
  {
   "cell_type": "markdown",
   "id": "cc27ad09-0480-4693-996c-0973d3f264d4",
   "metadata": {},
   "source": [
    "We consider a 2D domain with a constant zonal and zero meridional wind stress. We assume that this is the only non-zero forcing term. We have analytical solutions for the same, and by performing a numerical simulation for two time steps, we hope to match these results with analytical solutions.\n",
    "\n",
    "The two equations are:\n",
    "\n",
    "$$\\frac{\\partial (U_m)}{\\partial t} = \\frac{\\tau_x}{\\rho_0},$$\n",
    "\n",
    "$$\\frac{\\partial (V_m)}{\\partial t} = \\frac{\\tau_y}{\\rho_0},$$\n",
    "\n",
    "where $U_m = u_m h_m$ and $V_m = v_m h_m$. \n",
    "\n",
    "We can see that the two equations are decoupled, since no equation drives the other in any way. Since we have $\\tau_y = 0$, we obtain $v_m = 0$ identically. Thus, the only equation left is the x-momentum equation. Let's say $tau_x(t) = 2 + 0.2 cos(\\frac{2 \\pi t}{10})$. We run the simulation for $t = 40$ seconds, and analytically solving the equation, we get:\n",
    "\n",
    "$$ \\int_{\\text{t = }0}^{\\text{t = }40} dU_m = \\int_{\\text{t = }0}^{\\text{t = }40} \\frac{\\tau_x}{\\rho_0} dt ,$$\n",
    "\n",
    "which reduces to:\n",
    "\n",
    "$$ U_m(\\text{t = }40) = \\frac{1}{\\rho_0} \\Big ( 2*t + \\frac{1}{\\pi} sin \\big(\\frac{2 \\pi t}{10} \\big) \\Big) = \\frac{80}{\\rho_0} \\approx 0.078 \\text{ m/s}. $$\n",
    "\n",
    "Even though this a 2D domain, since there are no x or y variations in this case, the u-velocity will be the same at all locations. So, checking the velocity at only one location should suffice. Let's do this test numerically and check whether we get the same result or not."
   ]
  },
  {
   "cell_type": "code",
   "execution_count": 2,
   "id": "79f77b7a-aab2-463c-ba1b-78cffc730e6f",
   "metadata": {},
   "outputs": [],
   "source": [
    "Lx,Ly = 4100,4000\n",
    "nx,ny = 52,50\n",
    "dx,dy = Lx/nx,Ly/ny\n",
    "\n",
    "g = 9.81\n",
    "rho0 = 1025\n",
    "r0 = 6.378*10**6\n",
    "day = 24*60*60 # length of day [seconds]\n",
    "omega = 2*np.pi / day\n",
    "f = 2*omega*np.sin(np.deg2rad(30))  #Assuming that the 2D domain is near 30 degrees latitude\n",
    "\n",
    "xu = np.linspace(0,Lx,nx,dtype = float)\n",
    "yu = np.linspace(0,Ly,ny,dtype = float)\n",
    "Y,X = np.meshgrid(yu,xu)"
   ]
  },
  {
   "cell_type": "code",
   "execution_count": 3,
   "id": "5cb559fa-c03a-4564-8143-0d8f88b40961",
   "metadata": {},
   "outputs": [],
   "source": [
    "tau_x = np.zeros((nx,ny))\n",
    "tau_y = np.zeros((nx,ny))\n",
    "MLD_0 = -10*np.ones((nx,ny))"
   ]
  },
  {
   "cell_type": "code",
   "execution_count": 4,
   "id": "0dc5b07b-9ee0-40e5-9fc2-3386aef4baea",
   "metadata": {},
   "outputs": [],
   "source": [
    "def forcing_Euler(tau):\n",
    "    f3 = tau/rho0\n",
    "    return f3"
   ]
  },
  {
   "cell_type": "code",
   "execution_count": 5,
   "id": "5bd00567-d8ca-47ff-94a3-2c1c8f47e6f2",
   "metadata": {},
   "outputs": [],
   "source": [
    "Um_old = np.zeros((nx,ny))\n",
    "Um_new = np.zeros((nx,ny))\n",
    "Um_true = np.zeros((nx,ny))\n",
    "Vm_old = np.zeros((nx,ny))\n",
    "Vm_new = np.zeros((nx,ny))\n",
    "hm_old = -MLD_0\n",
    "hm_new = hm_old\n",
    "\n",
    "t_start = 0\n",
    "t_end = 40\n",
    "dt = 2\n",
    "\n",
    "# Needed for creating plots\n",
    "Um_data = np.zeros(((nx,ny,int(t_end/dt) + 1)))\n",
    "Um_true_data = np.zeros(((nx,ny,int(t_end/dt) + 1)))\n",
    "\n",
    "for t in np.arange(t_start,t_end,dt):\n",
    "    tau_x = (2 + 0.2*np.cos(2*np.pi*t/10)) * np.ones((nx,ny))\n",
    "    Um_new = Um_old + dt*forcing_Euler(tau_x)\n",
    "    Vm_new = Vm_old + dt*forcing_Euler(tau_y)\n",
    "    \n",
    "    Um_true = (1/rho0)*(2*t + (1/np.pi) * np.sin(2*np.pi*t/10))\n",
    "\n",
    "    Um_data[:,:,int(t/dt)] = Um_old\n",
    "    Um_true_data[:,:,int(t/dt)] = Um_true\n",
    "    Um_old = Um_new\n",
    "    Vm_old = Vm_new"
   ]
  },
  {
   "cell_type": "code",
   "execution_count": 6,
   "id": "7ce86621-66fc-4de5-aea5-9780101bf3c6",
   "metadata": {},
   "outputs": [
    {
     "data": {
      "text/plain": [
       "Text(0, 0.5, 'x-velocity (in m/sec)')"
      ]
     },
     "execution_count": 6,
     "metadata": {},
     "output_type": "execute_result"
    },
    {
     "data": {
      "image/png": "[encoded data removed]",
      "text/plain": [
       "<Figure size 1080x432 with 1 Axes>"
      ]
     },
     "metadata": {
      "needs_background": "light"
     },
     "output_type": "display_data"
    }
   ],
   "source": [
    "plt.figure(figsize = (15,6))\n",
    "plt.plot(np.linspace(t_start,t_end,int(t_end/dt)), Um_data[2,2,0:-1], label = 'Numerical solution')\n",
    "plt.plot(np.linspace(t_start,t_end,int(t_end/dt)), Um_true_data[2,2,0:-1], ls = '--', label = 'True solution')\n",
    "plt.title('Evolution of u-velocity with time')\n",
    "plt.xlabel('Time (in sec)')\n",
    "plt.legend()\n",
    "plt.ylabel('x-velocity (in m/sec)')"
   ]
  },
  {
   "cell_type": "markdown",
   "id": "5a167e04-bf66-4bfe-be3a-09b0d1a98c51",
   "metadata": {},
   "source": [
    "From this analysis, we get $U_m = 0.078$ m/s at $t = 40$ seconds. This matches our analytical test, and so, our numerical solution is correct."
   ]
  },
  {
   "cell_type": "markdown",
   "id": "racial-toner",
   "metadata": {},
   "source": [
    "# Test 2: Rotating domain"
   ]
  },
  {
   "cell_type": "markdown",
   "id": "alone-probability",
   "metadata": {},
   "source": [
    "We have a 2D domain with a constant zonal and zero meridional wind stress. This time, We assume that the Coriolis and forcing terms are both non-zero, i.e., we have a rotating 2D domain with zonal wind stress. We have analytical solutions for the same, and by performing a numerical simulation for two time steps, we hope to match these results with analytical solutions.\n",
    "\n",
    "The two equations are:\n",
    "\n",
    "$$\\frac{\\partial (u_m h_m)}{\\partial t} = \\frac{\\tau_x}{\\rho_0} + fv_m h_m,$$\n",
    "$$\\frac{\\partial (v_m h_m)}{\\partial t} = \\frac{\\tau_y}{\\rho_0} - fu_m h_m.$$\n",
    "\n",
    "The two equations are:\n",
    "\n",
    "$$\\frac{\\partial U_m}{\\partial t} = \\frac{\\tau_x}{\\rho_0} + f V_m,$$\n",
    "\n",
    "$$\\frac{\\partial V_m}{\\partial t} = \\frac{\\tau_y}{\\rho_0} - f U_m.$$\n",
    "\n",
    "If we were to solve these equations analytically, we would have to dissociate $U_m$ and $V_m$ in the two equations above. We do it as shown below:\n",
    "\n",
    "$$\\frac{\\partial^2 U_m}{\\partial t^2} = f  (\\frac{\\tau_y}{\\rho_0} - f U_m),$$\n",
    "\n",
    "$$\\frac{\\partial^2 V_m}{\\partial t^2} =  - f (\\frac{\\tau_x}{\\rho_0} + f V_m).$$\n",
    "\n",
    "Solving the two equations, we get:\n",
    "\n",
    "$$ U_m = A sin (ft) + B cos (ft),$$\n",
    "\n",
    "$$ V_m = C sin (ft) + D cos (ft) - \\frac{1}{f} \\frac{\\tau_x}{\\rho_0}, $$\n",
    "\n",
    "where $A = f(x,y), B = g(x,y), C = h(x,y) \\text{ and }D = k(x,y)$. Since $U_m$ and $V_m$ are zero at t $= 0$, $B = C = 0$. \n",
    "\n",
    "We consider a wind stress changing in the y-direction as:\n",
    "\n",
    "$$ \\tau_x = 2 sin \\Big( \\frac{\\pi y}{L_y} \\Big), $$\n",
    "so that the wind stress is at its maximum ($ = 2 $ N/m^2) at the middle and zero at the two boundaries. We use the initial conditions that $U_m = V_m = 0$ to obtain the constants A and D:\n",
    "\n",
    "$$ A = \\frac{2}{f \\rho_0} sin \\Big( \\frac{\\pi y}{L_y} \\Big), $$\n",
    "\n",
    "$$ D = \\frac{2}{f \\rho_0} sin \\Big( \\frac{\\pi y}{L_y} \\Big). $$"
   ]
  },
  {
   "cell_type": "markdown",
   "id": "5808aa99-4acf-46dc-86b7-081d0459df97",
   "metadata": {},
   "source": [
    "Finally, substituting $A$ and $D$, we get the analytical solution for $U_m$ and $V_m$:\n",
    "\n",
    "$$ U_m = \\frac{2}{f \\rho_0} sin \\Big (\\frac{\\pi y}{L_y} \\Big) sin(ft), $$\n",
    "\n",
    "$$ V_m = \\frac{2}{f \\rho_0} sin\\Big (\\frac{\\pi y}{L_y} \\Big) cos (ft) - \\frac{2}{f \\rho_0} sin \\Big ( \\frac{\\pi y}{L_y} \\Big) $$"
   ]
  },
  {
   "cell_type": "code",
   "execution_count": 7,
   "id": "0796f060-2c56-4166-85d6-831eeae50a96",
   "metadata": {},
   "outputs": [],
   "source": [
    "Lx,Ly = 4100,4000\n",
    "nx,ny = 52,50\n",
    "dx,dy = Lx/nx,Ly/ny\n",
    "\n",
    "g = 9.81\n",
    "rho0 = 1025\n",
    "r0 = 6.378*10**6\n",
    "day = 24*60*60 # length of day [seconds]\n",
    "omega = 2*np.pi / day\n",
    "f = 2*omega*np.sin(np.deg2rad(30))\n",
    "\n",
    "x = np.linspace(0,Lx,nx,dtype = float)\n",
    "y = np.linspace(0,Ly,ny,dtype = float)\n",
    "Y,X = np.meshgrid(y,x)"
   ]
  },
  {
   "cell_type": "code",
   "execution_count": 8,
   "id": "favorite-compact",
   "metadata": {},
   "outputs": [],
   "source": [
    "tau_x = 2 * np.sin(np.pi*Y/Ly)\n",
    "tau_y = np.zeros((nx,ny))"
   ]
  },
  {
   "cell_type": "code",
   "execution_count": 9,
   "id": "promotional-model",
   "metadata": {},
   "outputs": [],
   "source": [
    "def forcing_Euler(tau):\n",
    "    f3 = tau/(rho0)\n",
    "    return f3\n",
    "\n",
    "def cor_Euler(vel):\n",
    "    f3 = -f*vel    \n",
    "    return f3"
   ]
  },
  {
   "cell_type": "code",
   "execution_count": 10,
   "id": "blessed-scheme",
   "metadata": {},
   "outputs": [],
   "source": [
    "Um_old = np.zeros((nx,ny))\n",
    "Um_new = np.zeros((nx,ny))\n",
    "Vm_old = np.zeros((nx,ny))\n",
    "Vm_new = np.zeros((nx,ny))\n",
    "\n",
    "t_start = 0\n",
    "t_end = 40\n",
    "dt = 1\n",
    "\n",
    "Um_true = np.zeros((nx,ny))\n",
    "Vm_true = np.zeros((nx,ny))\n",
    "\n",
    "# Needed for animations\n",
    "Um_data = np.zeros(((nx,ny,int(t_end/dt) + 1)))\n",
    "Vm_data = np.zeros(((nx,ny,int(t_end/dt) + 1)))\n",
    "Um_true_data = np.zeros(((nx,ny,int(t_end/dt) + 1)))\n",
    "Vm_true_data = np.zeros(((nx,ny,int(t_end/dt) + 1)))\n",
    "\n",
    "for t in np.arange(t_start,t_end,dt):\n",
    "    Um_new = Um_old + dt*forcing_Euler(tau_x) + dt*cor_Euler(-Vm_old)\n",
    "    Vm_new = Vm_old + dt*forcing_Euler(tau_y) + dt*cor_Euler(Um_old)\n",
    "    \n",
    "    Um_true = 2/(f*rho0) * np.sin(np.pi*Y/Ly) * np.sin(f*t)\n",
    "    Vm_true = 2/(f*rho0) * np.sin(np.pi*Y/Ly) * np.cos(f*t) - 2/(f*rho0) * np.sin(np.pi*Y/Ly)\n",
    "    \n",
    "    Um_data[:,:,int(t/dt)] = Um_old\n",
    "    Vm_data[:,:,int(t/dt)] = Vm_old\n",
    "    Um_true_data[:,:,int(t/dt)] = Um_true\n",
    "    Vm_true_data[:,:,int(t/dt)] = Vm_true\n",
    "    \n",
    "    Um_old = Um_new\n",
    "    Vm_old = Vm_new"
   ]
  },
  {
   "cell_type": "code",
   "execution_count": 11,
   "id": "97da5738-cf25-4c74-aa89-48087e2a4730",
   "metadata": {},
   "outputs": [
    {
     "data": {
      "text/html": [
       "<video src=\"Videos/2D_Cor/um_new.mp4\" controls  >\n",
       "      Your browser does not support the <code>video</code> element.\n",
       "    </video>"
      ],
      "text/plain": [
       "<IPython.core.display.Video object>"
      ]
     },
     "execution_count": 11,
     "metadata": {},
     "output_type": "execute_result"
    }
   ],
   "source": [
    "fig, ax = plt.subplots(figsize = (10,6))\n",
    "\n",
    "def update_fig(i):\n",
    "    \n",
    "    plt.clf()\n",
    "    plt.title('Numerical solution for time = ' + str(dt*i) + ' s')\n",
    "    p1 = plt.contourf(X, Y, Um_data[:,:,i], cmap = 'RdBu', levels = np.linspace(-0.08,0.08,21))\n",
    "    plt.colorbar()\n",
    "    plt.xlabel('x')\n",
    "    plt.ylabel('y')\n",
    "    return p1\n",
    "\n",
    "num_frames = 40\n",
    "anim = animation.FuncAnimation(fig, update_fig, frames = num_frames, blit = False)\n",
    "anim.save('Videos/2D_Cor/um_new.mp4',writer = 'ffmpeg',fps = 8)\n",
    "\n",
    "plt.close(anim._fig)\n",
    "\n",
    "Video('Videos/2D_Cor/um_new.mp4')"
   ]
  },
  {
   "cell_type": "code",
   "execution_count": 12,
   "id": "264dee6c-e397-4208-a834-47c1b9e6e824",
   "metadata": {},
   "outputs": [
    {
     "data": {
      "text/html": [
       "<video src=\"Videos/2D_Cor/um_new_error.mp4\" controls  >\n",
       "      Your browser does not support the <code>video</code> element.\n",
       "    </video>"
      ],
      "text/plain": [
       "<IPython.core.display.Video object>"
      ]
     },
     "execution_count": 12,
     "metadata": {},
     "output_type": "execute_result"
    }
   ],
   "source": [
    "fig, ax = plt.subplots(figsize = (10,6))\n",
    "\n",
    "def update_fig(i):\n",
    "    \n",
    "    plt.clf()\n",
    "    plt.title('Difference between computed and true solution for time = ' + str(dt*i) + ' s')\n",
    "    p1 = plt.contourf(X, Y, (Um_data[:,:,i] - Um_true_data[:,:,i]), cmap = 'RdBu', levels = np.linspace(-0.08,0.08,21))\n",
    "    plt.colorbar()\n",
    "    plt.xlabel('x')\n",
    "    plt.ylabel('y')\n",
    "    return p1\n",
    "\n",
    "num_frames = 40\n",
    "anim = animation.FuncAnimation(fig, update_fig, frames = num_frames, blit = False)\n",
    "anim.save('Videos/2D_Cor/um_new_error.mp4',writer = 'ffmpeg',fps = 8)\n",
    "\n",
    "plt.close(anim._fig)\n",
    "\n",
    "Video('Videos/2D_Cor/um_new_error.mp4')"
   ]
  },
  {
   "cell_type": "code",
   "execution_count": 13,
   "id": "abbc0da3-2e46-4c17-ae46-fa21ae832d77",
   "metadata": {},
   "outputs": [
    {
     "data": {
      "text/html": [
       "<video src=\"Videos/2D_Cor/vm_new.mp4\" controls  >\n",
       "      Your browser does not support the <code>video</code> element.\n",
       "    </video>"
      ],
      "text/plain": [
       "<IPython.core.display.Video object>"
      ]
     },
     "execution_count": 13,
     "metadata": {},
     "output_type": "execute_result"
    }
   ],
   "source": [
    "fig, ax = plt.subplots(figsize = (10,6))\n",
    "\n",
    "def update_fig(i):\n",
    "    \n",
    "    plt.clf()\n",
    "    plt.title('Numerical solution for time = ' + str(dt*i) + ' s')\n",
    "    p1 = plt.contourf(X, Y, Vm_data[:,:,i], cmap = 'RdBu', levels = np.linspace(-1.5e-4,1.5e-4,21))\n",
    "    plt.colorbar()\n",
    "    plt.xlabel('x')\n",
    "    plt.ylabel('y')\n",
    "    return p1\n",
    "\n",
    "num_frames = 40\n",
    "anim = animation.FuncAnimation(fig, update_fig, frames = num_frames, blit = False)\n",
    "anim.save('Videos/2D_Cor/vm_new.mp4',writer = 'ffmpeg',fps = 8)\n",
    "\n",
    "plt.close(anim._fig)\n",
    "\n",
    "Video('Videos/2D_Cor/vm_new.mp4')"
   ]
  },
  {
   "cell_type": "code",
   "execution_count": 14,
   "id": "00d3f13f-a631-4010-b6e0-3eef2699984a",
   "metadata": {},
   "outputs": [
    {
     "data": {
      "text/html": [
       "<video src=\"Videos/2D_Cor/vm_new_error.mp4\" controls  >\n",
       "      Your browser does not support the <code>video</code> element.\n",
       "    </video>"
      ],
      "text/plain": [
       "<IPython.core.display.Video object>"
      ]
     },
     "execution_count": 14,
     "metadata": {},
     "output_type": "execute_result"
    }
   ],
   "source": [
    "fig, ax = plt.subplots(figsize = (10,6))\n",
    "\n",
    "def update_fig(i):\n",
    "    \n",
    "    plt.clf()\n",
    "    plt.title('Difference between computed and true solution for time = ' + str(dt*i) + ' s')\n",
    "    p1 = plt.contourf(X, Y, (Vm_data[:,:,i] - Vm_true_data[:,:,i]), cmap = 'RdBu', levels = np.linspace(-1.5e-4,1.5e-4,21))\n",
    "    plt.colorbar()\n",
    "    plt.xlabel('x')\n",
    "    plt.ylabel('y')\n",
    "    return p1\n",
    "\n",
    "num_frames = 40\n",
    "anim = animation.FuncAnimation(fig, update_fig, frames = num_frames, blit = False)\n",
    "anim.save('Videos/2D_Cor/vm_new_error.mp4',writer = 'ffmpeg',fps = 8)\n",
    "\n",
    "plt.close(anim._fig)\n",
    "\n",
    "Video('Videos/2D_Cor/vm_new_error.mp4')"
   ]
  }
 ],
 "metadata": {
  "kernelspec": {
   "display_name": "Python 3",
   "language": "python",
   "name": "python3"
  },
  "language_info": {
   "codemirror_mode": {
    "name": "ipython",
    "version": 3
   },
   "file_extension": ".py",
   "mimetype": "text/x-python",
   "name": "python",
   "nbconvert_exporter": "python",
   "pygments_lexer": "ipython3",
   "version": "3.8.8"
  }
 },
 "nbformat": 4,
 "nbformat_minor": 5
}
