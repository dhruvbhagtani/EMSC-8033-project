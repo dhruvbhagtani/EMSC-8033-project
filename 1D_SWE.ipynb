{
 "cells": [
  {
   "cell_type": "code",
   "execution_count": 1,
   "id": "global-shaft",
   "metadata": {},
   "outputs": [],
   "source": [
    "import numpy as np\n",
    "import matplotlib.pyplot as plt\n",
    "import sys\n",
    "from IPython.display import Video\n",
    "from matplotlib import animation"
   ]
  },
  {
   "cell_type": "markdown",
   "id": "d85fccc6-2a0f-4f1c-9bfc-ad6e36b84f05",
   "metadata": {},
   "source": [
    "The shallow water equations are a set of hyperbolic partial differential equations (or parabolic if viscous shear is considered) that describe the flow below a pressure surface in a fluid (sometimes, but not necessarily, a free surface). We consider a 1D domain, and describe the dynamics of fluid particles in an Eulerian framework. There are two forms of shallow water equations:\n",
    "(i) Non-conservative form, and, \n",
    "(ii) Conservative form. The latter is often used while dealing with discontinuities or sudden changes. In this notebook, we consider the non-conservative form only, and test it on several metrics."
   ]
  },
  {
   "cell_type": "markdown",
   "id": "upper-weekly",
   "metadata": {},
   "source": [
    "## 1. Non-conservative form"
   ]
  },
  {
   "cell_type": "code",
   "execution_count": 2,
   "id": "sitting-mistress",
   "metadata": {},
   "outputs": [],
   "source": [
    "import Euler.Periodic_1D as elr"
   ]
  },
  {
   "cell_type": "markdown",
   "id": "electronic-walker",
   "metadata": {},
   "source": [
    "Rotating 1D shallow water inviscid dynamical equations over a flat bottom are:\n",
    "\n",
    "$$ \\frac{\\partial u}{\\partial t} + u \\frac{\\partial u}{\\partial x} - fv = -g\\frac{\\partial h}{\\partial x},$$\n",
    "\n",
    "$$ \\frac{\\partial v}{\\partial t} + u \\frac{\\partial v}{\\partial x} + fu = 0, $$\n",
    "\n",
    "$$ \\frac{\\partial h}{\\partial t} + \\frac{\\partial (uh)}{\\partial x} = 0.$$"
   ]
  },
  {
   "cell_type": "markdown",
   "id": "selective-arabic",
   "metadata": {},
   "source": [
    "## Using normal grid"
   ]
  },
  {
   "cell_type": "code",
   "execution_count": 3,
   "id": "similar-investor",
   "metadata": {},
   "outputs": [],
   "source": [
    "#Defining necessary constants\n",
    "\n",
    "g = 9.81\n",
    "rho0 = 1025\n",
    "r0 = 6.378*10**6\n",
    "day = 24*60*60 # length of day [seconds]\n",
    "omega = 2*np.pi / day\n",
    "f = 2*omega*np.sin(np.deg2rad(30))"
   ]
  },
  {
   "cell_type": "code",
   "execution_count": 4,
   "id": "cooked-driver",
   "metadata": {},
   "outputs": [],
   "source": [
    "#Length of domain\n",
    "Lx = 6\n",
    "\n",
    "#Number of points in the domain\n",
    "nx = 200\n",
    "\n",
    "#Width of each cell\n",
    "dx = Lx/nx\n",
    "\n",
    "g = 9.81\n",
    "rho0 = 1025\n",
    "\n",
    "#An array of all points\n",
    "x = np.linspace(-Lx/2,Lx/2,nx+1,dtype = float)\n",
    "#x = x[0:-1]"
   ]
  },
  {
   "cell_type": "code",
   "execution_count": 5,
   "id": "excessive-garbage",
   "metadata": {},
   "outputs": [],
   "source": [
    "um_old = np.zeros(nx+1)\n",
    "um_new = np.zeros(nx+1)\n",
    "vm_old = np.zeros(nx+1)\n",
    "vm_new = np.zeros(nx+1)\n",
    "\n",
    "hm_old = 1 + 0.1*np.exp(-5*x**2)\n",
    "hm_old_t0 = 1 + 0.1*np.exp(-5*x**2)\n",
    "hm_new = np.zeros(nx)\n",
    "\n",
    "t_start = 0\n",
    "t_end = 1.2\n",
    "dt = 0.001\n",
    "\n",
    "# Needed to create animations\n",
    "um_data = np.zeros((nx+1,int(t_end/dt) + 1))\n",
    "vm_data = np.zeros((nx+1,int(t_end/dt) + 1))\n",
    "hm_data = np.zeros((nx+1,int(t_end/dt) + 1))\n",
    "\n",
    "for t in np.arange(t_start,t_end,dt):\n",
    "    \n",
    "    # Governing equations for interior points\n",
    "    um_new = um_old - dt*elr.adv_x(um_old,um_old,dx,nx) - dt*g*elr.partial_x_cd(hm_old,dx,nx) + dt*f*vm_old \n",
    "    vm_new = vm_old - dt*elr.adv_x(um_old,vm_old,dx,nx) - dt*f*um_old\n",
    "    hm_new = hm_old - dt*um_old*elr.partial_x_cd(hm_old,dx,nx) - dt*hm_old*elr.partial_x_cd(um_old,dx,nx)\n",
    "    \n",
    "    # Boundary conditions\n",
    "    um_new[0] = 0\n",
    "    um_new[-1] = 0\n",
    "    hm_new[0] = 1\n",
    "    hm_new[-1] = 1\n",
    "    vm_new[0] = 0\n",
    "    vm_new[1] = 0\n",
    "    \n",
    "    um_data[:,int(t/dt)] = um_new\n",
    "    vm_data[:,int(t/dt)] = vm_new\n",
    "    hm_data[:,int(t/dt)] = hm_new\n",
    "    \n",
    "    # Updation equations\n",
    "    um_old = um_new\n",
    "    vm_old = vm_new\n",
    "    hm_old = hm_new"
   ]
  },
  {
   "cell_type": "code",
   "execution_count": 6,
   "id": "a986f090-050c-441c-abb1-0944cbb6648e",
   "metadata": {},
   "outputs": [],
   "source": [
    "fig,ax = plt.subplots(figsize = (13,5))\n",
    "\n",
    "def update_fig(i):\n",
    "    \n",
    "    plt.clf()\n",
    "    plt.title('u-directional velocity for time = ' + str(dt*i))\n",
    "    p1 = plt.plot(x, um_data[:,i])\n",
    "    plt.ylim([-0.2, 0.2])\n",
    "    return p1\n",
    "\n",
    "num_frames = 1200\n",
    "anim = animation.FuncAnimation(fig, update_fig, frames = num_frames, blit = True)\n",
    "anim.save('Videos/1D_SWE/1D_SWE_NCons_um.mp4',writer = 'ffmpeg',fps = 64)\n",
    "\n",
    "plt.close(anim._fig)"
   ]
  },
  {
   "cell_type": "code",
   "execution_count": 7,
   "id": "0f87e29c-c431-43c2-a62b-82b00fc8ac97",
   "metadata": {},
   "outputs": [
    {
     "data": {
      "text/html": [
       "<video src=\"Videos/1D_SWE/1D_SWE_NCons_um.mp4\" controls  >\n",
       "      Your browser does not support the <code>video</code> element.\n",
       "    </video>"
      ],
      "text/plain": [
       "<IPython.core.display.Video object>"
      ]
     },
     "execution_count": 7,
     "metadata": {},
     "output_type": "execute_result"
    }
   ],
   "source": [
    "Video(\"Videos/1D_SWE/1D_SWE_NCons_um.mp4\")"
   ]
  },
  {
   "cell_type": "code",
   "execution_count": 8,
   "id": "0cac8b33-c749-4fdf-8b0a-a25544484f34",
   "metadata": {},
   "outputs": [],
   "source": [
    "fig,ax = plt.subplots(figsize = (13,5))\n",
    "\n",
    "def update_fig(i):\n",
    "    \n",
    "    plt.clf()\n",
    "    plt.title('v-directional velocity for time = ' + str(dt*i))\n",
    "    p1 = plt.plot(x, vm_data[:,i])\n",
    "    plt.title('v-directional velocity')\n",
    "    plt.ylim([-2e-5, 2e-5])\n",
    "    return p1\n",
    "\n",
    "num_frames = 1200\n",
    "anim = animation.FuncAnimation(fig, update_fig, frames = num_frames, blit = True)\n",
    "anim.save('Videos/1D_SWE/1D_SWE_NCons_vm.mp4',writer = 'ffmpeg',fps = 64)\n",
    "\n",
    "plt.close(anim._fig)"
   ]
  },
  {
   "cell_type": "code",
   "execution_count": 9,
   "id": "221dfccd-9bc4-411d-9f44-88a6a0fe1abb",
   "metadata": {},
   "outputs": [
    {
     "data": {
      "text/html": [
       "<video src=\"Videos/1D_SWE/1D_SWE_NCons_vm.mp4\" controls  >\n",
       "      Your browser does not support the <code>video</code> element.\n",
       "    </video>"
      ],
      "text/plain": [
       "<IPython.core.display.Video object>"
      ]
     },
     "execution_count": 9,
     "metadata": {},
     "output_type": "execute_result"
    }
   ],
   "source": [
    "Video(\"Videos/1D_SWE/1D_SWE_NCons_vm.mp4\")"
   ]
  },
  {
   "cell_type": "code",
   "execution_count": 10,
   "id": "4f4a28ce-520f-45a9-aeeb-2eaf487a4134",
   "metadata": {},
   "outputs": [],
   "source": [
    "fig,ax = plt.subplots(figsize = (13,5))\n",
    "\n",
    "def update_fig(i):\n",
    "    \n",
    "    plt.clf()\n",
    "    plt.title('Wave height for time = ' + str(dt*i))\n",
    "    p1 = plt.plot(x, hm_data[:,i])\n",
    "    plt.ylim([0.9, 1.2])\n",
    "    return p1\n",
    "\n",
    "num_frames = 1200\n",
    "anim = animation.FuncAnimation(fig, update_fig, frames = num_frames, blit = True)\n",
    "anim.save('Videos/1D_SWE/1D_SWE_NCons_hm.mp4',writer = 'ffmpeg',fps = 64)\n",
    "\n",
    "plt.close(anim._fig)"
   ]
  },
  {
   "cell_type": "code",
   "execution_count": 11,
   "id": "77a934b6-8096-447d-b1c2-01d40141579b",
   "metadata": {},
   "outputs": [
    {
     "data": {
      "text/html": [
       "<video src=\"Videos/1D_SWE/1D_SWE_NCons_hm.mp4\" controls  >\n",
       "      Your browser does not support the <code>video</code> element.\n",
       "    </video>"
      ],
      "text/plain": [
       "<IPython.core.display.Video object>"
      ]
     },
     "execution_count": 11,
     "metadata": {},
     "output_type": "execute_result"
    }
   ],
   "source": [
    "Video(\"Videos/1D_SWE/1D_SWE_NCons_hm.mp4\")"
   ]
  },
  {
   "cell_type": "markdown",
   "id": "7e51e543-680f-49c4-9c5a-4c66e54abd2b",
   "metadata": {},
   "source": [
    "There are a number of important points to summarise from this analysis:\n",
    "1. We get a result as expected: the wave in the middle breaks down into two equal waves, each having half the amplitude as the original wave. Shallow water equations travel with a wave speed $c = (gh)^{0.5}$, where h is the height of the undulating surface. In this case, we have $h = 0.1$. The wave should, therefore travel with a wave speed $ \\approx 3$ m/s. In terms of the 1D domain, each newly formed wave should reach the boundary at $t \\approx 0.9$ seconds.\n",
    "2. The non-conservative form works well until the 2 waves reach the boundaries, where the interaction with boundary points creates very high derivatives, thereby making the scheme unstable. This is where the conservative form shines - it can deal with these large derivatives well.\n",
    "3. The v-velocity is really small, because it is only forced via the coriolis term, and the domain begins from rest.\n",
    "4. The non-conservative form can be made stable by changing the grid from an unstaggered to a staggered mesh."
   ]
  },
  {
   "cell_type": "code",
   "execution_count": 12,
   "id": "local-figure",
   "metadata": {},
   "outputs": [
    {
     "data": {
      "text/plain": [
       "[<matplotlib.lines.Line2D at 0x7fc125139910>]"
      ]
     },
     "execution_count": 12,
     "metadata": {},
     "output_type": "execute_result"
    },
    {
     "data": {
      "image/png": "[encoded data removed]",
      "text/plain": [
       "<Figure size 936x360 with 1 Axes>"
      ]
     },
     "metadata": {
      "needs_background": "light"
     },
     "output_type": "display_data"
    }
   ],
   "source": [
    "plt.figure(figsize = (13,5))\n",
    "plt.plot(x, hm_old)"
   ]
  },
  {
   "cell_type": "code",
   "execution_count": 13,
   "id": "competent-spelling",
   "metadata": {},
   "outputs": [
    {
     "data": {
      "text/plain": [
       "[<matplotlib.lines.Line2D at 0x7fc1241b7400>]"
      ]
     },
     "execution_count": 13,
     "metadata": {},
     "output_type": "execute_result"
    },
    {
     "data": {
      "image/png": "[encoded data removed]",
      "text/plain": [
       "<Figure size 936x360 with 1 Axes>"
      ]
     },
     "metadata": {
      "needs_background": "light"
     },
     "output_type": "display_data"
    }
   ],
   "source": [
    "plt.figure(figsize = (13,5))\n",
    "plt.plot(x, hm_old*um_old)"
   ]
  },
  {
   "cell_type": "code",
   "execution_count": 14,
   "id": "ethical-raising",
   "metadata": {},
   "outputs": [
    {
     "data": {
      "text/plain": [
       "[<matplotlib.lines.Line2D at 0x7fc124eb1f40>]"
      ]
     },
     "execution_count": 14,
     "metadata": {},
     "output_type": "execute_result"
    },
    {
     "data": {
      "image/png": "[encoded data removed]",
      "text/plain": [
       "<Figure size 936x360 with 1 Axes>"
      ]
     },
     "metadata": {
      "needs_background": "light"
     },
     "output_type": "display_data"
    }
   ],
   "source": [
    "plt.figure(figsize = (13,5))\n",
    "plt.plot(x, hm_old_t0)"
   ]
  },
  {
   "cell_type": "markdown",
   "id": "featured-yorkshire",
   "metadata": {},
   "source": [
    "## 2. Using staggered grid for non-conservative SWE (in the absence of coriolis forcing)"
   ]
  },
  {
   "cell_type": "markdown",
   "id": "be1cdc8d-7b4a-41b8-b0d1-bc09269002ed",
   "metadata": {},
   "source": [
    "When we don't have coriolis forcing, or in other words, we are considering a non-rotating domain, the v-velocity identically reduces to zero. Therefore, we solve for $u_m$ and $h_m$."
   ]
  },
  {
   "cell_type": "code",
   "execution_count": 15,
   "id": "brutal-symbol",
   "metadata": {},
   "outputs": [],
   "source": [
    "#Length of domain\n",
    "Lx = 6\n",
    "\n",
    "#Number of points in the domain\n",
    "nx = 256\n",
    "\n",
    "#Width of each cell\n",
    "dx = Lx/nx\n",
    "\n",
    "g = 9\n",
    "rho0 = 1025\n",
    "\n",
    "#An array of all points\n",
    "xu = np.linspace(-Lx/2,Lx/2,nx+1,dtype = float)\n",
    "xt = xu + dx/2\n",
    "xt = xt[0:-1]\n",
    "\n",
    "# xu -> Grid for velocity/momentum variables\n",
    "# xt -> Grid for tracer variables"
   ]
  },
  {
   "cell_type": "code",
   "execution_count": 16,
   "id": "suitable-affair",
   "metadata": {},
   "outputs": [
    {
     "name": "stdout",
     "output_type": "stream",
     "text": [
      "CPU times: user 96.3 ms, sys: 3.74 ms, total: 100 ms\n",
      "Wall time: 99.3 ms\n"
     ]
    }
   ],
   "source": [
    "%%time\n",
    "#MLD_0 = -150*np.exp(0.05*x/Lx)\n",
    "\n",
    "um_old = np.zeros(nx+1)\n",
    "um_new = np.zeros(nx+1)\n",
    "\n",
    "hm_old = 1 + 0.02*np.exp(-20*(xt)**2)\n",
    "hm_old_t0 = 1 + 0.02*np.exp(-20*(xt)**2)\n",
    "hm_new = np.zeros(nx)\n",
    "\n",
    "t_start = 0\n",
    "t_end = 3\n",
    "dt = 0.001\n",
    "\n",
    "# Needed to create animations\n",
    "um_data = np.zeros((nx+1,int(t_end/dt) + 1))\n",
    "hm_data = np.zeros((nx,int(t_end/dt) + 1))\n",
    "\n",
    "for t in np.arange(t_start,t_end,dt):\n",
    "    um_new[1:nx] = um_old[1:nx] - dt*elr.adv_x(um_old,um_old,dx,nx)[1:nx] - dt*g*(1/dx)*(\n",
    "        hm_old[1:nx] - hm_old[0:nx-1])\n",
    "    \n",
    "    hm_new[1:nx-1] = hm_old[1:nx-1] - dt*(um_old[1:nx-1] + um_old[2:nx])*0.5*elr.partial_x_cd(\n",
    "        hm_old,dx,nx)[1:nx-1] - dt*(1/dx)*(hm_old[1:nx-1]*(um_old[2:nx] - um_old[1:nx-1]))\n",
    "    \n",
    "    # Dirichlet boundary condition (Flips the wave along x-axis)\n",
    "    #um_new[0] = 0\n",
    "    #um_new[-1] = 0\n",
    "    #hm_new[0] = 1\n",
    "    #hm_new[-1] = 1\n",
    "    \n",
    "    # Neumann boundary condition (Acts like a mirror along y-axis)\n",
    "    #hm_new[0] = hm_new[1]\n",
    "    #hm_new[-1] = hm_new[-2]\n",
    "    #um_new[0] = um_new[1]\n",
    "    #um_new[-1] = um_new[-2]\n",
    "    \n",
    "    # Periodic boundary condition (Assumes that the two ends are connected)\n",
    "    um_new[-1] = um_new[1]\n",
    "    um_new[0] = um_new[-2]\n",
    "    hm_new[-1] = hm_new[1]\n",
    "    hm_new[0] = hm_new[-2]\n",
    "    \n",
    "    um_data[:,int(t/dt)] = um_new\n",
    "    hm_data[:,int(t/dt)] = hm_new\n",
    "    \n",
    "    um_old = um_new\n",
    "    hm_old = hm_new"
   ]
  },
  {
   "cell_type": "markdown",
   "id": "243d9154-7f1b-4957-8c01-ec55904b881a",
   "metadata": {},
   "source": [
    "### 2.1 Dirichlet boundary conditions"
   ]
  },
  {
   "cell_type": "code",
   "execution_count": 18,
   "id": "847806bf-2c10-4af8-96cd-dee763170a0b",
   "metadata": {},
   "outputs": [],
   "source": [
    "fig,ax = plt.subplots(figsize = (13,5))\n",
    "\n",
    "def update_fig(i):\n",
    "    \n",
    "    plt.clf()\n",
    "    plt.title('u-directional velocity for time = ' + str(dt*i))\n",
    "    p1 = plt.plot(xu, um_data[:,i])\n",
    "    plt.ylim([-0.05, 0.05])\n",
    "    return p1\n",
    "\n",
    "num_frames = 3000\n",
    "anim = animation.FuncAnimation(fig, update_fig, frames = num_frames, blit = True)\n",
    "anim.save('Videos/1D_SWE/1D_SWE_Cons_um.mp4',writer = 'ffmpeg',fps = 128)\n",
    "\n",
    "plt.close(anim._fig)"
   ]
  },
  {
   "cell_type": "code",
   "execution_count": 19,
   "id": "2efed5de-e60f-43b6-9f67-cc030d180765",
   "metadata": {},
   "outputs": [
    {
     "data": {
      "text/html": [
       "<video src=\"Videos/1D_SWE/1D_SWE_Cons_um.mp4\" controls  >\n",
       "      Your browser does not support the <code>video</code> element.\n",
       "    </video>"
      ],
      "text/plain": [
       "<IPython.core.display.Video object>"
      ]
     },
     "execution_count": 19,
     "metadata": {},
     "output_type": "execute_result"
    }
   ],
   "source": [
    "Video(\"Videos/1D_SWE/1D_SWE_Cons_um.mp4\")"
   ]
  },
  {
   "cell_type": "code",
   "execution_count": 20,
   "id": "1922495f-536a-4af7-8de4-f31e50e19630",
   "metadata": {},
   "outputs": [],
   "source": [
    "fig,ax = plt.subplots(figsize = (13,5))\n",
    "\n",
    "def update_fig(i):\n",
    "    \n",
    "    plt.clf()\n",
    "    plt.title('Wave height for time = ' + str(dt*i))\n",
    "    p1 = plt.plot(xt, hm_data[:,i])\n",
    "    plt.ylim([0.975, 1.025])\n",
    "    return p1\n",
    "\n",
    "num_frames = 3000\n",
    "anim = animation.FuncAnimation(fig, update_fig, frames = num_frames, blit = True)\n",
    "anim.save('Videos/1D_SWE/1D_SWE_Cons_hm.mp4',writer = 'ffmpeg',fps = 128)\n",
    "\n",
    "plt.close(anim._fig)"
   ]
  },
  {
   "cell_type": "code",
   "execution_count": 21,
   "id": "0cef1915-b9b7-4a62-9316-0eed3fde4923",
   "metadata": {},
   "outputs": [
    {
     "data": {
      "text/html": [
       "<video src=\"Videos/1D_SWE/1D_SWE_Cons_hm.mp4\" controls  >\n",
       "      Your browser does not support the <code>video</code> element.\n",
       "    </video>"
      ],
      "text/plain": [
       "<IPython.core.display.Video object>"
      ]
     },
     "execution_count": 21,
     "metadata": {},
     "output_type": "execute_result"
    }
   ],
   "source": [
    "Video(\"Videos/1D_SWE/1D_SWE_Cons_hm.mp4\")"
   ]
  },
  {
   "cell_type": "markdown",
   "id": "60e764fa-2dc1-4bc7-840a-35293b113180",
   "metadata": {},
   "source": [
    "### 2.2 Neumann boundary conditions"
   ]
  },
  {
   "cell_type": "code",
   "execution_count": 22,
   "id": "f522a798-eb7a-45b7-80f6-4a8de069d3a7",
   "metadata": {},
   "outputs": [],
   "source": [
    "fig,ax = plt.subplots(figsize = (13,5))\n",
    "\n",
    "def update_fig(i):\n",
    "    \n",
    "    plt.clf()\n",
    "    plt.title('u-directional velocity for time = ' + str(dt*i))\n",
    "    p1 = plt.plot(xu, um_data[:,i])\n",
    "    plt.ylim([-0.05, 0.05])\n",
    "    return p1\n",
    "\n",
    "num_frames = 3000\n",
    "anim = animation.FuncAnimation(fig, update_fig, frames = num_frames, blit = True)\n",
    "anim.save('Videos/1D_SWE/1D_SWE_Cons_um_NBC.mp4',writer = 'ffmpeg',fps = 128)\n",
    "\n",
    "plt.close(anim._fig)"
   ]
  },
  {
   "cell_type": "code",
   "execution_count": 23,
   "id": "76ce484a-0c40-497c-bad4-dc4c541b65c6",
   "metadata": {},
   "outputs": [
    {
     "data": {
      "text/html": [
       "<video src=\"Videos/1D_SWE/1D_SWE_Cons_um_NBC.mp4\" controls  >\n",
       "      Your browser does not support the <code>video</code> element.\n",
       "    </video>"
      ],
      "text/plain": [
       "<IPython.core.display.Video object>"
      ]
     },
     "execution_count": 23,
     "metadata": {},
     "output_type": "execute_result"
    }
   ],
   "source": [
    "Video(\"Videos/1D_SWE/1D_SWE_Cons_um_NBC.mp4\")"
   ]
  },
  {
   "cell_type": "code",
   "execution_count": 24,
   "id": "44ef3111-4972-411e-9f52-cadfc75ea6ee",
   "metadata": {},
   "outputs": [],
   "source": [
    "fig,ax = plt.subplots(figsize = (13,5))\n",
    "\n",
    "def update_fig(i):\n",
    "    \n",
    "    plt.clf()\n",
    "    plt.title('Wave height for time = ' + str(dt*i))\n",
    "    p1 = plt.plot(xt, hm_data[:,i])\n",
    "    plt.ylim([0.975, 1.025])\n",
    "    return p1\n",
    "\n",
    "num_frames = 3000\n",
    "anim = animation.FuncAnimation(fig, update_fig, frames = num_frames, blit = True)\n",
    "anim.save('Videos/1D_SWE/1D_SWE_Cons_hm_NBC.mp4',writer = 'ffmpeg',fps = 128)\n",
    "\n",
    "plt.close(anim._fig)"
   ]
  },
  {
   "cell_type": "code",
   "execution_count": 25,
   "id": "9fcbef6a-2d48-4036-9028-9ab3a905c1c1",
   "metadata": {},
   "outputs": [
    {
     "data": {
      "text/html": [
       "<video src=\"Videos/1D_SWE/1D_SWE_Cons_hm_NBC.mp4\" controls  >\n",
       "      Your browser does not support the <code>video</code> element.\n",
       "    </video>"
      ],
      "text/plain": [
       "<IPython.core.display.Video object>"
      ]
     },
     "execution_count": 25,
     "metadata": {},
     "output_type": "execute_result"
    }
   ],
   "source": [
    "Video(\"Videos/1D_SWE/1D_SWE_Cons_hm_NBC.mp4\")"
   ]
  },
  {
   "cell_type": "markdown",
   "id": "88f7eb59-5f7d-45d2-9cee-fe0ae5136ac5",
   "metadata": {},
   "source": [
    "### 2.3 Periodic boundary conditions"
   ]
  },
  {
   "cell_type": "code",
   "execution_count": 26,
   "id": "61e44477-f2a1-4695-87c5-1c2120e47411",
   "metadata": {},
   "outputs": [],
   "source": [
    "fig,ax = plt.subplots(figsize = (13,5))\n",
    "\n",
    "def update_fig(i):\n",
    "    \n",
    "    plt.clf()\n",
    "    plt.title('u-directional velocity for time = ' + str(dt*i))\n",
    "    p1 = plt.plot(xu, um_data[:,i])\n",
    "    plt.ylim([-0.05, 0.05])\n",
    "    return p1\n",
    "\n",
    "num_frames = 3000\n",
    "anim = animation.FuncAnimation(fig, update_fig, frames = num_frames, blit = True)\n",
    "anim.save('Videos/1D_SWE/1D_SWE_Cons_um_PBC.mp4',writer = 'ffmpeg',fps = 128)\n",
    "\n",
    "plt.close(anim._fig)"
   ]
  },
  {
   "cell_type": "code",
   "execution_count": 27,
   "id": "02f27128-757c-49fd-806e-cf71b7bf553e",
   "metadata": {},
   "outputs": [
    {
     "data": {
      "text/html": [
       "<video src=\"Videos/1D_SWE/1D_SWE_Cons_um_PBC.mp4\" controls  >\n",
       "      Your browser does not support the <code>video</code> element.\n",
       "    </video>"
      ],
      "text/plain": [
       "<IPython.core.display.Video object>"
      ]
     },
     "execution_count": 27,
     "metadata": {},
     "output_type": "execute_result"
    }
   ],
   "source": [
    "Video(\"Videos/1D_SWE/1D_SWE_Cons_um_PBC.mp4\")"
   ]
  },
  {
   "cell_type": "code",
   "execution_count": 28,
   "id": "7859081b-1083-4d41-9f55-fe8f59d11c2e",
   "metadata": {},
   "outputs": [],
   "source": [
    "fig,ax = plt.subplots(figsize = (13,5))\n",
    "\n",
    "def update_fig(i):\n",
    "    \n",
    "    plt.clf()\n",
    "    plt.title('Wave height for time = ' + str(dt*i))\n",
    "    p1 = plt.plot(xt, hm_data[:,i])\n",
    "    plt.ylim([0.975, 1.025])\n",
    "    return p1\n",
    "\n",
    "num_frames = 3000\n",
    "anim = animation.FuncAnimation(fig, update_fig, frames = num_frames, blit = True)\n",
    "anim.save('Videos/1D_SWE/1D_SWE_Cons_hm_PBC.mp4',writer = 'ffmpeg',fps = 128)\n",
    "\n",
    "plt.close(anim._fig)"
   ]
  },
  {
   "cell_type": "code",
   "execution_count": 29,
   "id": "41a97b20-8bbc-45e7-be33-b9882b3c55f8",
   "metadata": {},
   "outputs": [
    {
     "data": {
      "text/html": [
       "<video src=\"Videos/1D_SWE/1D_SWE_Cons_hm_PBC.mp4\" controls  >\n",
       "      Your browser does not support the <code>video</code> element.\n",
       "    </video>"
      ],
      "text/plain": [
       "<IPython.core.display.Video object>"
      ]
     },
     "execution_count": 29,
     "metadata": {},
     "output_type": "execute_result"
    }
   ],
   "source": [
    "Video(\"Videos/1D_SWE/1D_SWE_Cons_hm_PBC.mp4\")"
   ]
  },
  {
   "cell_type": "markdown",
   "id": "5ac89844-c583-440d-acfb-27591b329f2c",
   "metadata": {},
   "source": [
    "As we see, the staggered grid works perfectly! In almost every general circulation model, a staggered grid is used. There are several staggered grids, named after Arakawa. A staggered grid is a grid where the momentum and tracer variables are placed on different grids in the domain, and often lead to more stability. "
   ]
  },
  {
   "cell_type": "markdown",
   "id": "stock-arrow",
   "metadata": {},
   "source": [
    "## Test 3 : 1D SWE in the presence of coriolis forcing"
   ]
  },
  {
   "cell_type": "markdown",
   "id": "d4227fe5-2219-4a4e-b90c-b814f1b9d844",
   "metadata": {},
   "source": [
    "This time around, we impose a mix of boundary conditions, each relevant to the particular tracer/momentum variable. We consider a realistic case: There is no-normal flow in the rotating fluid, so $u_m = 0$. Next, at the boundaries, since we have a shallow wave, we impose a constant wave height ($h_m = 1$ m). For v-velocity, we consider $\\frac{\\partial v}{\\partial x} = 0$. "
   ]
  },
  {
   "cell_type": "code",
   "execution_count": 30,
   "id": "improving-kruger",
   "metadata": {},
   "outputs": [],
   "source": [
    "#Length of domain\n",
    "Lx = 6\n",
    "\n",
    "#Number of points in the domain\n",
    "nx = 256\n",
    "\n",
    "#Width of each cell\n",
    "dx = Lx/nx\n",
    "\n",
    "g = 9\n",
    "rho0 = 1025\n",
    "\n",
    "#An array of all points\n",
    "xu = np.linspace(-Lx/2,Lx/2,nx+1,dtype = float)\n",
    "xt = xu + dx/2\n",
    "xt = xt[0:-1]"
   ]
  },
  {
   "cell_type": "code",
   "execution_count": 31,
   "id": "impaired-miniature",
   "metadata": {},
   "outputs": [],
   "source": [
    "#MLD_0 = -150*np.exp(0.05*x/Lx)\n",
    "\n",
    "um_old = np.zeros(nx+1)\n",
    "um_new = np.zeros(nx+1)\n",
    "vm_old = np.zeros(nx+1)\n",
    "vm_new = np.zeros(nx+1)\n",
    "#hm_old = 0.1*np. exp(-(x-Lx/2)**2/(2**2))+10\n",
    "#hm_old_t0 = 0.1*np. exp(-(x-Lx/2)**2/(2**2))+10\n",
    "f = 2*omega*np.sin(np.deg2rad(30))*np.ones(xt.shape)\n",
    "\n",
    "hm_old = 1 + 0.05*np.exp(-20*(xt)**2)\n",
    "hm_old_t0 = 1 + 0.1*np.exp(-20*(xt)**2)\n",
    "hm_new = np.zeros(nx)\n",
    "\n",
    "t_start = 0\n",
    "t_end = 2.5\n",
    "dt = 0.001\n",
    "\n",
    "# Needed to create animations\n",
    "um_data = np.zeros((nx+1,int(t_end/dt) + 1))\n",
    "vm_data = np.zeros((nx+1,int(t_end/dt) + 1))\n",
    "hm_data = np.zeros((nx,int(t_end/dt) + 1))\n",
    "\n",
    "for t in np.arange(t_start,t_end,dt):\n",
    "    um_new[1:nx] = um_old[1:nx] - dt*elr.adv_x(um_old,um_old,dx,nx)[1:nx] - dt*g*(1/dx)*(\n",
    "        hm_old[1:nx] - hm_old[0:nx-1]) + dt*(f[0:nx-1] + f[1:nx])*0.5*vm_old[1:nx]\n",
    "    \n",
    "    vm_new[1:nx] = vm_old[1:nx] - dt*elr.adv_x(um_old,vm_old,dx,nx)[1:nx] - dt*(\n",
    "        f[0:nx-1] + f[1:nx])*0.5*um_old[1:nx]\n",
    "    \n",
    "    hm_new[1:nx-1] = hm_old[1:nx-1] - dt*(um_old[1:nx-1] + um_old[2:nx])*0.5*elr.partial_x_cd(\n",
    "        hm_old,dx,nx)[1:nx-1] - dt*(1/dx)*(hm_old[1:nx-1]*(um_old[2:nx] - um_old[1:nx-1]))\n",
    "    \n",
    "    #Dirichlet boundary condition\n",
    "    um_new[0] = 0\n",
    "    um_new[-1] = 0\n",
    "    #vm_new[0] = 0 \n",
    "    #vm_new[-1] = 0\n",
    "    hm_new[0] = 1\n",
    "    hm_new[-1] = 1\n",
    "    \n",
    "    #Neumann boundary condition\n",
    "    #hm_new[0] = hm_new[1]\n",
    "    #hm_new[-1] = hm_new[-2]\n",
    "    #um_new[0] = um_new[1]\n",
    "    #um_new[-1] = um_new[-2]\n",
    "    vm_new[-1] = vm_new[-2]\n",
    "    vm_new[0] = vm_new[1]\n",
    "    \n",
    "    #Periodic boundary condition\n",
    "    #um_new[-1] = um_new[1]\n",
    "    #um_new[0] = um_new[-2]\n",
    "    #vm_new[-1] = vm_new[1]\n",
    "    #vm_new[0] = vm_new[-2]\n",
    "    #hm_new[-1] = hm_new[1]\n",
    "    #hm_new[0] = hm_new[-2]\n",
    "    \n",
    "    um_data[:,int(t/dt)] = um_new\n",
    "    vm_data[:,int(t/dt)] = vm_new\n",
    "    hm_data[:,int(t/dt)] = hm_new\n",
    "    \n",
    "    um_old = um_new\n",
    "    vm_old = vm_new\n",
    "    hm_old = hm_new"
   ]
  },
  {
   "cell_type": "code",
   "execution_count": 32,
   "id": "2efb704e-4a28-4fd0-b002-c35cad773236",
   "metadata": {},
   "outputs": [
    {
     "data": {
      "text/plain": [
       "Text(0.5, 1.0, 'u-direction velocity at time = 2.499 s')"
      ]
     },
     "execution_count": 32,
     "metadata": {},
     "output_type": "execute_result"
    },
    {
     "data": {
      "image/png": "[encoded data removed]",
      "text/plain": [
       "<Figure size 936x360 with 1 Axes>"
      ]
     },
     "metadata": {
      "needs_background": "light"
     },
     "output_type": "display_data"
    }
   ],
   "source": [
    "plt.figure(figsize = (13,5))\n",
    "plt.plot(xu, um_new)\n",
    "plt.title('u-direction velocity at time = ' + str(t) + ' s')"
   ]
  },
  {
   "cell_type": "code",
   "execution_count": 33,
   "id": "ea27c81a-ddbc-4a55-ab46-277a62222712",
   "metadata": {},
   "outputs": [
    {
     "data": {
      "text/plain": [
       "Text(0.5, 1.0, 'v-direction velocity at time = 2.499 s')"
      ]
     },
     "execution_count": 33,
     "metadata": {},
     "output_type": "execute_result"
    },
    {
     "data": {
      "image/png": "[encoded data removed]",
      "text/plain": [
       "<Figure size 936x360 with 1 Axes>"
      ]
     },
     "metadata": {
      "needs_background": "light"
     },
     "output_type": "display_data"
    }
   ],
   "source": [
    "plt.figure(figsize = (13,5))\n",
    "plt.plot(xu, vm_new)\n",
    "plt.title('v-direction velocity at time = ' + str(t) + ' s')"
   ]
  },
  {
   "cell_type": "code",
   "execution_count": 34,
   "id": "fa8453f8-d6e7-4065-9d97-7a5e62cce269",
   "metadata": {},
   "outputs": [
    {
     "data": {
      "text/plain": [
       "Text(0.5, 1.0, 'Wave height at time = 2.499 s')"
      ]
     },
     "execution_count": 34,
     "metadata": {},
     "output_type": "execute_result"
    },
    {
     "data": {
      "image/png": "[encoded data removed]",
      "text/plain": [
       "<Figure size 936x360 with 1 Axes>"
      ]
     },
     "metadata": {
      "needs_background": "light"
     },
     "output_type": "display_data"
    }
   ],
   "source": [
    "plt.figure(figsize = (13,5))\n",
    "plt.plot(xt, hm_new)\n",
    "plt.title('Wave height at time = ' + str(t) + ' s')"
   ]
  },
  {
   "cell_type": "code",
   "execution_count": 35,
   "id": "northern-front",
   "metadata": {},
   "outputs": [],
   "source": [
    "fig,ax = plt.subplots(figsize = (13,5))\n",
    "\n",
    "def update_fig(i):\n",
    "    \n",
    "    plt.clf()\n",
    "    plt.title('u-directional velocity for time = ' + str(dt*i*10))\n",
    "    p1 = plt.plot(xu, um_data[:,i*10])\n",
    "    plt.ylim([-0.08, 0.08])\n",
    "    return p1\n",
    "\n",
    "num_frames = 250\n",
    "anim = animation.FuncAnimation(fig, update_fig, frames = num_frames, blit = True)\n",
    "anim.save('Videos/1D_SWE/1D_SWE_coriolis_um.mp4',writer = 'ffmpeg',fps = 32)\n",
    "\n",
    "plt.close(anim._fig)"
   ]
  },
  {
   "cell_type": "code",
   "execution_count": 36,
   "id": "d8a974aa-5936-4cd3-8f7c-c41f9b220c00",
   "metadata": {},
   "outputs": [
    {
     "data": {
      "text/html": [
       "<video src=\"Videos/1D_SWE/1D_SWE_coriolis_um.mp4\" controls  >\n",
       "      Your browser does not support the <code>video</code> element.\n",
       "    </video>"
      ],
      "text/plain": [
       "<IPython.core.display.Video object>"
      ]
     },
     "execution_count": 36,
     "metadata": {},
     "output_type": "execute_result"
    }
   ],
   "source": [
    "Video('Videos/1D_SWE/1D_SWE_coriolis_um.mp4')"
   ]
  },
  {
   "cell_type": "code",
   "execution_count": 37,
   "id": "41c50380-74b5-4077-a28b-986578812ed6",
   "metadata": {},
   "outputs": [],
   "source": [
    "fig,ax = plt.subplots(figsize = (13,5))\n",
    "\n",
    "def update_fig(i):\n",
    "    \n",
    "    plt.clf()\n",
    "    plt.title('v-directional velocity for time = ' + str(dt*i*10))\n",
    "    p1 = plt.plot(xu, vm_data[:,i*10])\n",
    "    plt.ylim([-2e-6, 2e-6])\n",
    "    return p1\n",
    "\n",
    "num_frames = 250\n",
    "anim = animation.FuncAnimation(fig, update_fig, frames = num_frames, blit = True)\n",
    "anim.save('Videos/1D_SWE/1D_SWE_coriolis_vm.mp4',writer = 'ffmpeg',fps = 32)\n",
    "\n",
    "plt.close(anim._fig)"
   ]
  },
  {
   "cell_type": "code",
   "execution_count": 38,
   "id": "79300977-d882-48fd-978d-3104b2d1787d",
   "metadata": {},
   "outputs": [
    {
     "data": {
      "text/html": [
       "<video src=\"Videos/1D_SWE/1D_SWE_coriolis_vm.mp4\" controls  >\n",
       "      Your browser does not support the <code>video</code> element.\n",
       "    </video>"
      ],
      "text/plain": [
       "<IPython.core.display.Video object>"
      ]
     },
     "execution_count": 38,
     "metadata": {},
     "output_type": "execute_result"
    }
   ],
   "source": [
    "Video('Videos/1D_SWE/1D_SWE_coriolis_vm.mp4')"
   ]
  },
  {
   "cell_type": "code",
   "execution_count": 39,
   "id": "1d8b86d0-15a8-4e52-97f1-62e3e3258905",
   "metadata": {},
   "outputs": [],
   "source": [
    "fig,ax = plt.subplots(figsize = (13,5))\n",
    "\n",
    "def update_fig(i):\n",
    "    \n",
    "    plt.clf()\n",
    "    plt.title('Wave height for time = ' + str(dt*i*10))\n",
    "    p1 = plt.plot(xt, hm_data[:,i*10])\n",
    "    plt.ylim([0.95, 1.05])\n",
    "    return p1\n",
    "\n",
    "num_frames = 250\n",
    "anim = animation.FuncAnimation(fig, update_fig, frames = num_frames, blit = True)\n",
    "anim.save('Videos/1D_SWE/1D_SWE_coriolis_hm.mp4',writer = 'ffmpeg',fps = 32)\n",
    "\n",
    "plt.close(anim._fig)"
   ]
  },
  {
   "cell_type": "code",
   "execution_count": 40,
   "id": "8b2617f6-6eed-4c20-aaf1-1232f9b75bb3",
   "metadata": {},
   "outputs": [
    {
     "data": {
      "text/html": [
       "<video src=\"Videos/1D_SWE/1D_SWE_coriolis_hm.mp4\" controls  >\n",
       "      Your browser does not support the <code>video</code> element.\n",
       "    </video>"
      ],
      "text/plain": [
       "<IPython.core.display.Video object>"
      ]
     },
     "execution_count": 40,
     "metadata": {},
     "output_type": "execute_result"
    }
   ],
   "source": [
    "Video('Videos/1D_SWE/1D_SWE_coriolis_hm.mp4')"
   ]
  }
 ],
 "metadata": {
  "kernelspec": {
   "display_name": "Python 3",
   "language": "python",
   "name": "python3"
  },
  "language_info": {
   "codemirror_mode": {
    "name": "ipython",
    "version": 3
   },
   "file_extension": ".py",
   "mimetype": "text/x-python",
   "name": "python",
   "nbconvert_exporter": "python",
   "pygments_lexer": "ipython3",
   "version": "3.8.8"
  }
 },
 "nbformat": 4,
 "nbformat_minor": 5
}
